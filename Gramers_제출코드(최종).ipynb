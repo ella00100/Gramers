{
  "cells": [
    {
      "cell_type": "markdown",
      "id": "017e9265",
      "metadata": {
        "id": "017e9265"
      },
      "source": [
        "#**LG AI해커톤**\n",
        "\n",
        "> **MQL 데이터 기반 B2B 영업기회 창출 예측 모델 개발**\n",
        "</br>Team_Gramers (하성민, 권성준, 윤서영)\n",
        "</br>\n"
      ]
    },
    {
      "cell_type": "markdown",
      "id": "EmNzi0oRgrlX",
      "metadata": {
        "id": "EmNzi0oRgrlX"
      },
      "source": [
        "\n",
        "## **Concepts**\n",
        "1.   [데이터 확인](#1.-데이터-확인)<br/>\n",
        "2.   [데이터 전처리](#2.-데이터-전처리)<br/>\n",
        "3.   [학습에 사용할 칼럼 정의](#3.-학습에-사용할-칼럼-정의)<br/>\n",
        "4.   [모델 정의](#4.-모델-정의)<br/>\n",
        "5.   [모델 학습 및 평가](#5.-모델-학습-및-평가)<br/>"
      ]
    },
    {
      "cell_type": "markdown",
      "id": "acdab431",
      "metadata": {
        "id": "acdab431"
      },
      "source": [
        "# 1. 데이터 확인 <a name=\"1.-데이터-확인\"></a>\n",
        "\n",
        "\n",
        "> 사용할 모델(DeepFM)과 모델 개발 과정에 필요한 라이브러리를 불러옵니다.\n",
        "\n"
      ]
    },
    {
      "cell_type": "markdown",
      "id": "2b8341e8",
      "metadata": {
        "id": "2b8341e8"
      },
      "source": [
        "### 1.1 필수 라이브러리"
      ]
    },
    {
      "cell_type": "code",
      "execution_count": 68,
      "id": "mym-Bnr-myXf",
      "metadata": {
        "id": "mym-Bnr-myXf"
      },
      "outputs": [],
      "source": [
        "#!pip install tensorflow==2.8.0"
      ]
    },
    {
      "cell_type": "code",
      "execution_count": 69,
      "id": "Dr2ZE3T9rEGX",
      "metadata": {
        "id": "Dr2ZE3T9rEGX"
      },
      "outputs": [],
      "source": [
        "#!pip install deepctr"
      ]
    },
    {
      "cell_type": "code",
      "execution_count": 70,
      "id": "x4HaQa4orELi",
      "metadata": {
        "id": "x4HaQa4orELi"
      },
      "outputs": [],
      "source": [
        "#!pip install deepctr_torch"
      ]
    },
    {
      "cell_type": "code",
      "execution_count": 71,
      "id": "a315cc58",
      "metadata": {
        "id": "a315cc58"
      },
      "outputs": [],
      "source": [
        "import pandas as pd\n",
        "import numpy as np\n",
        "import re\n",
        "import matplotlib.pyplot as plt\n",
        "import random\n",
        "import os\n",
        "import torch\n",
        "\n",
        "from sklearn.metrics import (\n",
        "    accuracy_score,\n",
        "    confusion_matrix,\n",
        "    f1_score,\n",
        "    precision_score,\n",
        "    recall_score,\n",
        ")\n",
        "from sklearn.model_selection import train_test_split\n",
        "from sklearn.tree import DecisionTreeClassifier\n",
        "from sklearn.preprocessing import LabelEncoder, MinMaxScaler\n",
        "from sklearn.metrics import log_loss, roc_auc_score\n",
        "\n",
        "from tensorflow.keras.models import Model\n",
        "from tensorflow.keras.layers import Input, Dense, Embedding, concatenate, Flatten, Dropout\n",
        "from tensorflow.keras.optimizers import Adam"
      ]
    },
    {
      "cell_type": "markdown",
      "id": "teMekn4ThoH9",
      "metadata": {
        "id": "teMekn4ThoH9"
      },
      "source": [
        "### 1.2 DeepFM 모델 관련 라이브러리"
      ]
    },
    {
      "cell_type": "code",
      "execution_count": 72,
      "id": "Udh0nftKhlHb",
      "metadata": {
        "id": "Udh0nftKhlHb"
      },
      "outputs": [],
      "source": [
        "from deepctr.layers import FM, DNN\n",
        "from deepctr.models import DeepFM\n",
        "from deepctr.feature_column import SparseFeat, DenseFeat, get_feature_names\n",
        "\n",
        "from deepctr.models.xdeepfm import xDeepFM\n",
        "\n",
        "from deepctr_torch.inputs import SparseFeat, DenseFeat, get_feature_names\n",
        "from deepctr_torch.models import *"
      ]
    },
    {
      "cell_type": "markdown",
      "id": "D8t14IxniD3x",
      "metadata": {
        "id": "D8t14IxniD3x"
      },
      "source": [
        "### 1.3 랜덤 시드 고정"
      ]
    },
    {
      "cell_type": "code",
      "execution_count": 73,
      "id": "PYwVaaoRgwew",
      "metadata": {
        "id": "PYwVaaoRgwew"
      },
      "outputs": [],
      "source": [
        "def seed_everything(seed):\n",
        "    random.seed(seed)\n",
        "    os.environ['PYTHONHASHSEED'] = str(seed)\n",
        "    np.random.seed(seed)\n",
        "\n",
        "seed_everything(7579) # Seed 고정"
      ]
    },
    {
      "cell_type": "markdown",
      "id": "412f98cc",
      "metadata": {
        "id": "412f98cc"
      },
      "source": [
        "### 1.4 데이터 셋 읽어오기\n",
        "\n",
        "> 훈련용 데이터 셋과 제출용 데이터 셋을 불러옵니다.\n",
        "\n",
        "- 훈련 데이터에서 모든 값이 똑같은 **중복값 3519개를 제거**하여,\n",
        "<br/>총 훈련 데이터 59299개 중 55780개의 데이터를 보존하였습니다.\n",
        "\n"
      ]
    },
    {
      "cell_type": "code",
      "execution_count": 74,
      "id": "243a826c",
      "metadata": {
        "id": "243a826c"
      },
      "outputs": [],
      "source": [
        "df_train = pd.read_csv(\"train.csv\") # 학습용 데이터\n",
        "df_train.drop_duplicates(inplace=True) # 중복값 제거\n",
        "\n",
        "df_test = pd.read_csv(\"submission.csv\") # 테스트 데이터(제출파일의 데이터)"
      ]
    },
    {
      "cell_type": "markdown",
      "id": "af526c13",
      "metadata": {
        "id": "af526c13"
      },
      "source": [
        "# 2. 데이터 전처리<a name=\"2.-데이터-전처리\"></a>\n",
        "\n",
        "> 주어진 데이터의 각 칼럼들의 특징을 분석하고, DeepFM모델 훈련에 알맞은 형태로 가공합니다.\n",
        "\n"
      ]
    },
    {
      "cell_type": "markdown",
      "id": "1uerp55UxfDD",
      "metadata": {
        "id": "1uerp55UxfDD"
      },
      "source": [
        "## 2.0 EDA시 필요한 함수 정의"
      ]
    },
    {
      "cell_type": "markdown",
      "id": "BiVjat0nxvf0",
      "metadata": {
        "id": "BiVjat0nxvf0"
      },
      "source": [
        "### 2.0.1 칼럼 별 결측치 개수와 비율 출력 함수"
      ]
    },
    {
      "cell_type": "code",
      "execution_count": 75,
      "id": "diI1r9Afklic",
      "metadata": {
        "id": "diI1r9Afklic"
      },
      "outputs": [],
      "source": [
        "# 칼럼 별 결측치 개수와 비율 출력 함수 정의\n",
        "def calculate_missing_values(df, column_name):\n",
        "    \"\"\"\n",
        "    특정 칼럼의 결측치 개수와 비율을 구함\n",
        "    df의 column_name 칼럼에서\n",
        "    결측치 개수 missing_count와 비율 missing_percentage을 계산\n",
        "    스트링으로 반환\n",
        "    \"\"\"\n",
        "    missing_count = df[column_name].isna().sum()\n",
        "    total_count = df.shape[0]\n",
        "    missing_percentage = (missing_count / total_count) * 100\n",
        "    return f\"{column_name} 칼럼의 결측 개수: {missing_count}, 비율: {missing_percentage:.2f}%\""
      ]
    },
    {
      "cell_type": "markdown",
      "id": "z1RSWK75-lB8",
      "metadata": {
        "id": "z1RSWK75-lB8"
      },
      "source": [
        "### 2.0.2 col 칼럼의 데이터 유형별 전환율 확인 함수"
      ]
    },
    {
      "cell_type": "code",
      "execution_count": 76,
      "id": "55ab1782",
      "metadata": {
        "id": "55ab1782"
      },
      "outputs": [],
      "source": [
        "def show_conversion_ratio(col:str, cnt=False):\n",
        "    '''\n",
        "    col 칼럼의 데이터 유형별 전환율을 확인한다.\n",
        "    칼럼의 데이터 유형이 많을 경우, 상위 cnt 개 만큼의 전환율을 확인한다.\n",
        "    '''\n",
        "\n",
        "    if cnt:\n",
        "        find = df_train[col].value_counts()[:cnt]\n",
        "    else:\n",
        "        find = df_train[col].value_counts()\n",
        "\n",
        "\n",
        "\n",
        "    total = len(df_train) - df_train[col].isnull().sum()\n",
        "    print(f\"총 고객 : {len(df_train)}\")\n",
        "    print(f\"작성된 고객 유형 : {total}\")\n",
        "    missing_value = round(df_train[col].isnull().sum()/len(df_train),2)\n",
        "    print(f\"결측치 비율 = {missing_value}\")\n",
        "    print('\\n\\n')\n",
        "\n",
        "    print(f\"{'=====고객 별 비율=====':<35} {'  ===고객 별 전환비율====='}\")\n",
        "\n",
        "    for name, count in zip(find.index, find):\n",
        "        print(f'{name :<30} : {round(count/total*100,2):<5} %', end = '')\n",
        "        filter = df_train[col]== name\n",
        "        convert = df_train[filter]['is_converted'].sum()\n",
        "        convertion_ratio = convert / count\n",
        "        print(f\"    고객 {count:<5} 중 {convert:<5} : {round(convertion_ratio*100,2)}\")\n"
      ]
    },
    {
      "cell_type": "markdown",
      "id": "cd6a78f4",
      "metadata": {
        "id": "cd6a78f4"
      },
      "source": [
        "## 2.1. expected_timeline\n",
        "\n",
        "\n",
        "\n",
        "> **'expected_timeline'** 은 **고객의 요청한 처리 일정**에 관한 정보로, 문자열로 이루어져 있습니다.\n"
      ]
    },
    {
      "cell_type": "markdown",
      "id": "OJbpzy57vStN",
      "metadata": {
        "id": "OJbpzy57vStN"
      },
      "source": [
        "### 2.1.1 결측치 확인\n",
        "\n",
        "\n",
        "> 결측치: 28292개 (50.72%)"
      ]
    },
    {
      "cell_type": "code",
      "execution_count": 77,
      "id": "QyhIPGPQkqOd",
      "metadata": {
        "colab": {
          "base_uri": "https://localhost:8080/",
          "height": 35
        },
        "id": "QyhIPGPQkqOd",
        "outputId": "5de79228-272a-4c1f-d825-6fb88ea41e2b"
      },
      "outputs": [
        {
          "data": {
            "application/vnd.google.colaboratory.intrinsic+json": {
              "type": "string"
            },
            "text/plain": [
              "'expected_timeline 칼럼의 결측 개수: 28292, 비율: 50.72%'"
            ]
          },
          "execution_count": 77,
          "metadata": {},
          "output_type": "execute_result"
        }
      ],
      "source": [
        "# 결측치 개수와 비율 확인\n",
        "expected_timeline_missing_value = calculate_missing_values(df_train, 'expected_timeline')\n",
        "expected_timeline_missing_value"
      ]
    },
    {
      "cell_type": "markdown",
      "id": "LXtJzA_-yHgI",
      "metadata": {
        "id": "LXtJzA_-yHgI"
      },
      "source": [
        "### 2.1.2 데이터 구성 확인\n",
        "\n",
        "\n",
        "> - 데이터 탐색 과정을 통해 **'expected_timeline'** 은 '3 months ~ 6 months'처럼 기간으로만 깔끔하게 이루어진 칼럼이 아니라는 것을 확인했습니다.\n",
        "<br/>\n",
        "- 또한, 'no budgets for now wont buy'와 같이 **칼럼 값에 특정 단어들이 lead에 대한 중요한 정보를 포함**하는 것을 확인하였습니다.\n",
        "<br/>\n",
        "- Ex) 'demo'라는 단어는 'demo reqest', 'follow'는 'follow up'의 맥락에서 사용됨\n",
        "\n"
      ]
    },
    {
      "cell_type": "code",
      "execution_count": 78,
      "id": "SmLhxjj4kto1",
      "metadata": {
        "colab": {
          "base_uri": "https://localhost:8080/"
        },
        "id": "SmLhxjj4kto1",
        "outputId": "4f24f891-3605-4690-f7b4-a5bc3b886e85"
      },
      "outputs": [
        {
          "data": {
            "text/plain": [
              "less than 3 months                                                                                                            16768\n",
              "3 months ~ 6 months                                                                                                            4798\n",
              "more than a year                                                                                                               2874\n",
              "9 months ~ 1 year                                                                                                              1070\n",
              "6 months ~ 9 months                                                                                                            1043\n",
              "                                                                                                                              ...  \n",
              "no requirement of this time                                                                                                       1\n",
              "not reachable , lead shared with partner                                                                                          1\n",
              "discussed with client. details mailed to client. no budgets for now wont buy hence closing in the system                          1\n",
              "our partner, vis networks is working on this inquiry and client is cross-checking the prices. hence closing in the system.        1\n",
              "up to december                                                                                                                    1\n",
              "Name: expected_timeline, Length: 449, dtype: int64"
            ]
          },
          "execution_count": 78,
          "metadata": {},
          "output_type": "execute_result"
        }
      ],
      "source": [
        "# 데이터 구성 확인\n",
        "df_train['expected_timeline'].value_counts()"
      ]
    },
    {
      "cell_type": "markdown",
      "id": "PCzdodFeyMnR",
      "metadata": {
        "id": "PCzdodFeyMnR"
      },
      "source": [
        "### 2.1.3 전처리\n",
        "\n",
        "> 칼럼 값들을 'less than 3 months' 부터 'more than a year'로 기간으로 분류한 뒤 남은 값들은 주요 단어를 기준으로 분류하였습니다.\n",
        "\n",
        "*   분류되지 않고 빈도수가 낮은 데이터는 'etc'로 분류합니다.\n",
        "*   결측치는 'no comment'로 채워 넣습니다.\n",
        "*   분류 후 각 카테고리 별 전환율을 구하여 **'timeline_win_rate'** 칼럼을 생성합니다.\n",
        "*   DataLeakage를 방지하기 위해 Train셋 기준으로 전환율 구한 후 Test에 적용하였습니다."
      ]
    },
    {
      "cell_type": "code",
      "execution_count": 79,
      "id": "6TQ9urqYkwS9",
      "metadata": {
        "id": "6TQ9urqYkwS9"
      },
      "outputs": [],
      "source": [
        "# 전처리 할 범주형 칼럼 정의\n",
        "# 타겟 칼럼 'is_coverted'에 대한 전환율을 구하기 위해 모든 칼럼을 다 포함\n",
        "label_columns = df_train.columns.tolist()\n",
        "\n",
        "# Train 셋과 Test 셋 동시 처리를 위해 df_all로 임시 합침\n",
        "df_all = pd.concat([df_train[label_columns], df_test[label_columns]])\n",
        "\n",
        "# 개별 카테고리 매핑 주로 기간 처리용\n",
        "category_mapping = {\n",
        "    'less than 3 months': 'less than 3 months',\n",
        "    '3 months ~ 6 months': '3 months ~ 6 months',\n",
        "    'more than a year' : 'more than a year',\n",
        "    '9 months ~ 1 year' : '9 months ~ 1 year',\n",
        "    '6 months ~ 9 months' : '6 months ~ 9 months',\n",
        "    'less than 6 months' : '3 months ~ 6 months',\n",
        "    'less_than_3_months' : 'less than 3 months',\n",
        "    '3_months_~_6_months' : '3 months ~ 6 months',\n",
        "    '9_months_~_1_year' : '9 months ~ 1 year',\n",
        "    '6_months_~_9_months' : '6 months ~ 9 months',\n",
        "    'more_than_a_year' : 'more than a year',\n",
        "    'less than 5 months' : '3 months ~ 6 months',\n",
        "    'less then 6 months' : '3 months ~ 6 months',\n",
        "    'rnr' : 'etc.',\n",
        "    '09-02-2022 requested for boq of requirement' : 'less than 3 months',\n",
        "    'one month' : 'less than 3 months',\n",
        "    '9 months - 1 year' : '9 months ~ 1 year',\n",
        "    '3 months' : 'less than 3 months',\n",
        "    '45 days' : 'less than 3 months',\n",
        "    'more then 3 months' : '3 months ~ 6 months',\n",
        "}\n",
        "\n",
        "df_all['expected_timeline'] = df_all['expected_timeline'].replace(category_mapping)\n",
        "\n",
        "\n",
        "# 특정 단어 포함 카테고리 매핑\n",
        "additional_replacements = {\n",
        "    r'.*(closig|closing|drop).*': 'closing in system',\n",
        "    r'.*demo.*': 'demo request',\n",
        "    r'.*follow.*': 'follow up',\n",
        "    r'\\bfu\\b': 'follow up',\n",
        "    r'.*(answer|respon|connect|reach).*': 'no response',\n",
        "    r'.*detail.*': 'detail sent',\n",
        "    r'.*budget.*': 'budget issue',\n",
        "    r'.*(quote|share).*': 'quote shared',\n",
        "    r'.*(no requirement|not require).*': 'no requirement',\n",
        "    r'.*opp.*': 'opportunity',\n",
        "    r'.*(later|back|revert).*': 'will call back later',\n",
        "    r'.*(december|november|october).*': '3 months ~ 6 months',\n",
        "    r'.*september.*': 'less than 3 months',\n",
        "    r'.*already.*': 'alreay in touch',\n",
        "    r'.*(progres|prgress).*': 'follow up',\n",
        "    r'.*meet.*': 'scheduled meeting',\n",
        "    r'.*duplicate.*': 'duplicate lead',\n",
        "    r'.*not interested.*': 'not interested'\n",
        "\n",
        "}\n",
        "\n",
        "for pattern, replacement in additional_replacements.items():\n",
        "    df_all['expected_timeline'] = df_all['expected_timeline'].replace(to_replace=pattern, value=replacement, regex=True)\n",
        "\n",
        "# 결측치는 'no comment'로 교체\n",
        "df_all['expected_timeline'] = df_all['expected_timeline'].fillna('no comment')\n",
        "\n",
        "# 기타 항목은 'etc.' 처리\n",
        "specified_categories = set(category_mapping.values()).union(set(additional_replacements.values()))\n",
        "specified_categories.add('no comment')\n",
        "remaining_values = df_all['expected_timeline'][~df_all['expected_timeline'].isin(specified_categories)].unique()\n",
        "df_all['expected_timeline'] = df_all['expected_timeline'].replace(to_replace=remaining_values, value='etc.', regex=False)"
      ]
    },
    {
      "cell_type": "code",
      "execution_count": 80,
      "id": "-9OmLqaWk0CR",
      "metadata": {
        "id": "-9OmLqaWk0CR"
      },
      "outputs": [],
      "source": [
        "# 임시로 합친 df_all을 다시 Train셋과 Test셋으로 분리\n",
        "for col in label_columns:\n",
        "    df_train[col] = df_all.iloc[: len(df_train)][col]\n",
        "    df_test[col] = df_all.iloc[len(df_train) :][col]"
      ]
    },
    {
      "cell_type": "code",
      "execution_count": 81,
      "id": "07vM7w1rk1mZ",
      "metadata": {
        "id": "07vM7w1rk1mZ"
      },
      "outputs": [],
      "source": [
        "\n",
        "# Train셋을 기준으로 전환율을 반영\n",
        "conversion_rates = df_train.groupby('expected_timeline')['is_converted'].mean()\n",
        "sorted_conversion_rates_series = conversion_rates.sort_values(ascending=False)\n",
        "sorted_conversion_rates_series\n",
        "\n",
        "# df_train의 전환율 데이터를 test에도 동일하게 적용\n",
        "df_all['timeline_win_rate'] = df_all['expected_timeline'].map(sorted_conversion_rates_series)\n",
        "\n",
        "# timeline_win_rate 칼럼 추가\n",
        "label_columns.append('timeline_win_rate')"
      ]
    },
    {
      "cell_type": "markdown",
      "id": "F79JJNXTk8ot",
      "metadata": {
        "id": "F79JJNXTk8ot"
      },
      "source": [
        "## 2.2 product_category\n",
        "\n",
        "\n",
        ">  **'product_category'** 는 **요청 제품 카테고리**에 관한 정보로, 문자열로 구성되어 있습니다.\n",
        "\n"
      ]
    },
    {
      "cell_type": "markdown",
      "id": "Vt_wdUYA3AXW",
      "metadata": {
        "id": "Vt_wdUYA3AXW"
      },
      "source": [
        "### 2.2.1 결측치 확인\n",
        "\n",
        "\n",
        "> 결측치: 17174개(30.79%)\n",
        "\n",
        "\n",
        "\n"
      ]
    },
    {
      "cell_type": "code",
      "execution_count": 82,
      "id": "-idiA7b6lFpG",
      "metadata": {
        "colab": {
          "base_uri": "https://localhost:8080/",
          "height": 35
        },
        "id": "-idiA7b6lFpG",
        "outputId": "0b6cbfc0-de5c-4b1c-d779-3ab9192359d1"
      },
      "outputs": [
        {
          "data": {
            "application/vnd.google.colaboratory.intrinsic+json": {
              "type": "string"
            },
            "text/plain": [
              "'product_category 칼럼의 결측 개수: 17174, 비율: 30.79%'"
            ]
          },
          "execution_count": 82,
          "metadata": {},
          "output_type": "execute_result"
        }
      ],
      "source": [
        "# 결측치 개수와 비율 확인\n",
        "product_category_missing_value = calculate_missing_values(df_train, 'product_category')\n",
        "product_category_missing_value"
      ]
    },
    {
      "cell_type": "markdown",
      "id": "ji2dLCT13RHv",
      "metadata": {
        "id": "ji2dLCT13RHv"
      },
      "source": [
        "### 2.2.2 데이터 구성 확인\n",
        "\n",
        "\n",
        "> - **'product_category'** 에는 'vrf', 'signage'처럼 제품 카테고리 별로 깔끔하게 구성된 값들이 존재합니다.\n",
        "<br/>\n",
        "- 또한, 'ar condicionado residencial'처럼 다른 언어로 이루어진 경우가 존재하는 것을 확인하였습니다.\n",
        "\n",
        "\n"
      ]
    },
    {
      "cell_type": "code",
      "execution_count": 83,
      "id": "NCXIf2xYlHSD",
      "metadata": {
        "colab": {
          "base_uri": "https://localhost:8080/"
        },
        "id": "NCXIf2xYlHSD",
        "outputId": "5f3367e7-9573-4fb2-e48d-e87ca7819622"
      },
      "outputs": [
        {
          "data": {
            "text/plain": [
              "interactive digital board                     6090\n",
              "vrf                                           5238\n",
              "multi-split                                   3548\n",
              "video wall signage                            2002\n",
              "etc.                                          1954\n",
              "                                              ... \n",
              "pc,tv                                            1\n",
              "system ac                                        1\n",
              "sac                                              1\n",
              "gscd046                                          1\n",
              "monior/monitor tv,refrigerator,audio/video       1\n",
              "Name: product_category, Length: 357, dtype: int64"
            ]
          },
          "execution_count": 83,
          "metadata": {},
          "output_type": "execute_result"
        }
      ],
      "source": [
        "# 데이터 구성 확인\n",
        "product_category_distribution = df_train['product_category'].value_counts()\n",
        "product_category_distribution"
      ]
    },
    {
      "cell_type": "markdown",
      "id": "H7RzzTCB4J5d",
      "metadata": {
        "id": "H7RzzTCB4J5d"
      },
      "source": [
        "### 2.2.3 전처리\n",
        "\n",
        "\n",
        "> 칼럼값들을 signage, vrf, heating등의 큰 카테고리로 분류하고, 남은 값들은 기준을 통해 분류하였습니다.\n",
        "\n",
        "- 특정 모델명 또는 단어를 포함하는 경우도 LGE 카탈로그 기반으로 분류합니다.\n",
        "  - Ex) 43uh5f-h.awzm -> TV로 분류\n",
        "- 분류되지 않은 빈도수가 낮은 데이터는 'others'로 분류합니다.\n",
        "- 결측치는 'not selected'로 채워넣습니다.\n",
        "- 분류 후 각 카테고리 별 전환율을 구하여 'product_category_win_rate' 칼럼을 생성합니다.\n",
        "- DataLeakage를 방지하기 위해 Train셋 기준으로 전환율 구한 후 Test에 적용합니다."
      ]
    },
    {
      "cell_type": "code",
      "execution_count": 84,
      "id": "0LDHrvU0lJTU",
      "metadata": {
        "id": "0LDHrvU0lJTU"
      },
      "outputs": [],
      "source": [
        "# 개별 카테고리 매핑. 영어가 아닌 언어 또는 모델명 처리용\n",
        "category_mapping = {\n",
        "    'climatiseur résidentiel' : 'rac',\n",
        "    'hotel tv' : 'hotel t_v',\n",
        "    'education createboard' : 'education createboard',\n",
        "    'webos' : 'webos',\n",
        "    'accessories' : 'accessories',\n",
        "    'laptop' : 'laptop',\n",
        "    'pro:centric' : 'software solution',\n",
        "    'ventilation' : 'ventilation',\n",
        "    'high brightness' : 'high brightness',\n",
        "    'control' : 'control',\n",
        "    'cloud device' : 'cloud device',\n",
        "    'ogrzewanie (pompy ciepła)' : 'heating',\n",
        "    'standalone' : 'tv',\n",
        "    '43us660h0sd.awz' : 'tv',\n",
        "    'services' : 'services',\n",
        "    'etc.' : 'etc.',\n",
        "\n",
        "}\n",
        "\n",
        "df_all['product_category'] = df_all['product_category'].replace(category_mapping)\n",
        "\n",
        "\n",
        "# 특정 단어 포함 카테고리 매핑\n",
        "additional_replacements = {\n",
        "    r'.*vrf.*': 'vrf',\n",
        "    r'.*chill.*': 'chiller',\n",
        "    r'.*multi.*': 'multi',\n",
        "    r'.*single.*': 'single',\n",
        "    r'.*(sign|ur640|virtual).*': 'signage',\n",
        "    r'.*(idb|interactive).*': 'inter_active digital board',\n",
        "    r'.*(rac|residen).*': 'rac',\n",
        "    r'.*hos.*': 'hospital t_v',\n",
        "    r'.*moni.*': 'monitor',\n",
        "    r'.*heat.*': 'heating',\n",
        "    r'.*(med|surg).*': 'medical display',\n",
        "    r'.*proj.*': 'projector',\n",
        "    r'.*commerc.*': 'commercial display',\n",
        "    r'.*quick.*': 'lg one:quick series',\n",
        "    r'.*(condi|invert).*': 'system air conditioner',\n",
        "    r'.*solar.*': 'solar',\n",
        "    r'.*care.*': 'care',\n",
        "    r'.*tv.*': 'tv',\n",
        "    r'.*pc.*': 'pc',\n",
        "    r'.*wall.*': 'video wall',\n",
        "    r'.*robo.*': 'robots',\n",
        "\n",
        "}\n",
        "\n",
        "for pattern, replacement in additional_replacements.items():\n",
        "    df_all['product_category'] = df_all['product_category'].replace(to_replace=pattern, value=replacement, regex=True)\n",
        "\n",
        "# 결측치는 'not selected'로 교체\n",
        "df_all['product_category'] = df_all['product_category'].fillna('not selected')\n",
        "\n",
        "# 기타 항목은 'others' 처리\n",
        "specified_categories = set(category_mapping.values()).union(set(additional_replacements.values()))\n",
        "specified_categories.add('not selected')\n",
        "remaining_values = df_all['product_category'][~df_all['product_category'].isin(specified_categories)].unique()\n",
        "df_all['product_category'] = df_all['product_category'].replace(to_replace=remaining_values, value='others', regex=False)"
      ]
    },
    {
      "cell_type": "code",
      "execution_count": 85,
      "id": "PGd0iuullK1R",
      "metadata": {
        "id": "PGd0iuullK1R"
      },
      "outputs": [],
      "source": [
        "for col in label_columns:\n",
        "    df_train[col] = df_all.iloc[: len(df_train)][col]\n",
        "    df_test[col] = df_all.iloc[len(df_train) :][col]"
      ]
    },
    {
      "cell_type": "code",
      "execution_count": 86,
      "id": "w29BOrpmlL57",
      "metadata": {
        "id": "w29BOrpmlL57"
      },
      "outputs": [],
      "source": [
        "# df_train을 기준으로 전환율을 반영\n",
        "product_conversion_rates = df_train.groupby('product_category')['is_converted'].mean()\n",
        "sorted_conversion_rates_series = product_conversion_rates.sort_values(ascending=False)\n",
        "sorted_conversion_rates_series\n",
        "\n",
        "# df_all 데이터 프레임에 전환율 칼럼 생성\n",
        "# df_train의 전환율 데이터를 test에도 동일하게 적용\n",
        "df_all['product_category_win_rate'] = df_all['product_category'].map(sorted_conversion_rates_series)\n",
        "\n",
        "# product_category_win_rate 칼럼 추가\n",
        "label_columns.append('product_category_win_rate')"
      ]
    },
    {
      "cell_type": "markdown",
      "id": "XliR3bWflNUM",
      "metadata": {
        "id": "XliR3bWflNUM"
      },
      "source": [
        "## 2.3 product_subcategory & product_modelname\n",
        "\n",
        "\n",
        "> **'product_subcategory'** 는 **요청 제품 하위 카테고리, 'product_modelname'** 는 **요청 제품 모델명 정보** 를 나타내며, 두 칼럼 모두 문자열로 구성되어있습니다.\n",
        "\n"
      ]
    },
    {
      "cell_type": "markdown",
      "id": "k54vMfjc5jtK",
      "metadata": {
        "id": "k54vMfjc5jtK"
      },
      "source": [
        "### 2.3.1 결측치 확인\n",
        "\n",
        "\n",
        "> - product_subcategory: 결측치: 46774개(83.85%)\n",
        "<br/>\n",
        "> - product_modelname: 결측치: 46749개(83.81%)\n",
        "\n"
      ]
    },
    {
      "cell_type": "code",
      "execution_count": 87,
      "id": "UWda9cZelTtn",
      "metadata": {
        "colab": {
          "base_uri": "https://localhost:8080/"
        },
        "id": "UWda9cZelTtn",
        "outputId": "da40ad27-875b-4606-878a-c7cfae6244c0"
      },
      "outputs": [
        {
          "data": {
            "text/plain": [
              "{'product_subcategory': 'product_subcategory 칼럼의 결측 개수: 46774, 비율: 83.85%',\n",
              " 'product_modelname': 'product_modelname 칼럼의 결측 개수: 46749, 비율: 83.81%'}"
            ]
          },
          "execution_count": 87,
          "metadata": {},
          "output_type": "execute_result"
        }
      ],
      "source": [
        "# product_subcategory', 'product_modelname' 칼럼의 결측치 확인\n",
        "columns_to_check = ['product_subcategory', 'product_modelname']\n",
        "missing_info = {}\n",
        "\n",
        "for column in columns_to_check:\n",
        "    missing_info[column] = calculate_missing_values(df_train, column)\n",
        "\n",
        "missing_info"
      ]
    },
    {
      "cell_type": "markdown",
      "id": "BS3POVm-6zrx",
      "metadata": {
        "id": "BS3POVm-6zrx"
      },
      "source": [
        "### 2.3.2 데이터 탐색\n",
        "\n",
        "\n",
        "> 두 칼럼은 결측 비율이 매우 높으며 이미 비슷한 성격의 product_category 칼럼에서 제품 분류를 하기 때문에 'product_category'와 다른 방식으로 처리합니다.\n",
        "\n",
        "- 데이터 탐색 과정에서 **세 칼럼 모두 기입한 경우의 전환율이 높은 것**을 확인하였습니다."
      ]
    },
    {
      "cell_type": "code",
      "execution_count": 88,
      "id": "rBLvzuvOlU1q",
      "metadata": {
        "id": "rBLvzuvOlU1q"
      },
      "outputs": [],
      "source": [
        "def calculate_conversion_rates(df, column):\n",
        "    \"\"\"\n",
        "    df의 column과 id_converted 칼럼의\n",
        "    전환율 및 빈도수를 구한다\n",
        "    \"\"\"\n",
        "    df_with_column = df[df[column].notna()]\n",
        "    conversion_rate = df_with_column['is_converted'].mean() * 100\n",
        "    frequency = len(df_with_column)\n",
        "    return f\"{column} 빈도수: {frequency}, 전환율: {conversion_rate:.2f}%\""
      ]
    },
    {
      "cell_type": "code",
      "execution_count": 89,
      "id": "jXSNBsPOlXkt",
      "metadata": {
        "colab": {
          "base_uri": "https://localhost:8080/"
        },
        "id": "jXSNBsPOlXkt",
        "outputId": "07e8c934-d489-4445-bed4-1740ce2074c2"
      },
      "outputs": [
        {
          "data": {
            "text/plain": [
              "{'product_category': 'product_category 빈도수: 55780, 전환율: 8.28%',\n",
              " 'product_subcategory': 'product_subcategory 빈도수: 9006, 전환율: 14.69%',\n",
              " 'product_modelname': 'product_modelname 빈도수: 9031, 전환율: 12.31%'}"
            ]
          },
          "execution_count": 89,
          "metadata": {},
          "output_type": "execute_result"
        }
      ],
      "source": [
        "# 'product_category', 'product_subcategory', 'product_modelname' 칼럼 별 전환율 및 빈도수 구하기\n",
        "columns_to_check = ['product_category', 'product_subcategory', 'product_modelname']\n",
        "\n",
        "conversion_rates = {}\n",
        "for column in columns_to_check:\n",
        "    conversion_rates[column] = calculate_conversion_rates(df_train, column)\n",
        "\n",
        "conversion_rates"
      ]
    },
    {
      "cell_type": "code",
      "execution_count": 90,
      "id": "MgVSoxuvlZGa",
      "metadata": {
        "colab": {
          "base_uri": "https://localhost:8080/",
          "height": 35
        },
        "id": "MgVSoxuvlZGa",
        "outputId": "a58cd9f3-435a-4d27-8d7f-148a0e93d77f"
      },
      "outputs": [
        {
          "data": {
            "application/vnd.google.colaboratory.intrinsic+json": {
              "type": "string"
            },
            "text/plain": [
              "'모두 값이 있는 경우 빈도수: 7471, 전환율: 14.71%'"
            ]
          },
          "execution_count": 90,
          "metadata": {},
          "output_type": "execute_result"
        }
      ],
      "source": [
        "# 세 칼럼 모두 값이 있는 경우의 전환율\n",
        "df_with_all_columns = df_train.dropna(subset=['product_category', 'product_subcategory', 'product_modelname'])\n",
        "frequency_all_columns = len(df_with_all_columns)\n",
        "conversion_rate_all_columns = df_with_all_columns['is_converted'].mean() * 100\n",
        "output_all_columns = f\"모두 값이 있는 경우 빈도수: {frequency_all_columns}, 전환율: {conversion_rate_all_columns:.2f}%\"\n",
        "output_all_columns"
      ]
    },
    {
      "cell_type": "markdown",
      "id": "1kuBymFj6PQI",
      "metadata": {
        "id": "1kuBymFj6PQI"
      },
      "source": [
        "### 2.3.3 전처리\n",
        "\n",
        "\n",
        "> **세 칼럼 모두 기입한 경우의 전환율이 높은 것**을 확인하였으므로, 이런 경우 가중치를 주는 새로운 칼럼 **'all_product_details'** 을 생성하였습니다.\n"
      ]
    },
    {
      "cell_type": "code",
      "execution_count": 91,
      "id": "WaNAoxpgladL",
      "metadata": {
        "id": "WaNAoxpgladL"
      },
      "outputs": [],
      "source": [
        "# product_category, product_subcategory, product_modelname 모두 기입한 경우 가중치 1을 부여하는 칼럼 생성\n",
        "df_all['all_product_details'] = ((df_all['product_category'].notna()) &\n",
        "                                  (df_all['product_subcategory'].notna()) &\n",
        "                                  (df_all['product_modelname'].notna()))\n",
        "\n",
        "# all_product_details 칼럼 추가\n",
        "label_columns.append('all_product_details')"
      ]
    },
    {
      "cell_type": "code",
      "execution_count": 92,
      "id": "HNfeerPJlbqr",
      "metadata": {
        "id": "HNfeerPJlbqr"
      },
      "outputs": [],
      "source": [
        "for col in label_columns:\n",
        "    df_train[col] = df_all.iloc[: len(df_train)][col]\n",
        "    df_test[col] = df_all.iloc[len(df_train) :][col]"
      ]
    },
    {
      "cell_type": "markdown",
      "id": "79763e47",
      "metadata": {
        "id": "79763e47"
      },
      "source": [
        "## 2.4. customer_type\n",
        "\n",
        "\n",
        "> **'customer_type'** 은 **고객 유형** 정보로, 총 33개의 유형의 문자열 데이터로 구성되어있습니다.\n",
        "\n"
      ]
    },
    {
      "cell_type": "markdown",
      "id": "Bdxnw67l-9JF",
      "metadata": {
        "id": "Bdxnw67l-9JF"
      },
      "source": [
        "### 2.4.1 데이터 전처리\n",
        "\n",
        "\n",
        "> 좀 더 명확하게 데이터 유형을 분류하기 위해, 다음과 같이 처리하였습니다.\n",
        "\n",
        "- 대소문자, 띄어쓰기 등의 표기법 차이만 있는 경우를 하나의 데이터 유형으로 병합합니다.\n",
        "- 의미가 유사한 데이터 유형을 병합합니다. 특히, End customer와 End user 의 경우 `ver_cus` 항목에서 한 카테고리로 묶인 기록을 파악하고 이를 기반으로 병합하였습니다.\n",
        "  - 겹치는 칼럼\n",
        "  1. Architect/Consultant , Consultant\n",
        "  2. Dealer/Distributor   , Distributor\n",
        "  3. End Customer, End-user\n",
        "  4. Home Owner , Homeowner (집주인?)\n",
        "  5. Etc. , Other, Others\n",
        "  6. Software / Solution Provide\n",
        "  7. Specifier / Influencer\n",
        "\n",
        "- 결측치는 `No Comment` 라는 새로운 데이터 유형으로 보간합니다.\n",
        "-  test 데이터셋에서 등장할 수 있는 새로운 데이터 유형의 경우, 기존 항목의 Etc. 항목으로 병합합니다."
      ]
    },
    {
      "cell_type": "code",
      "execution_count": 93,
      "id": "b3d9466c",
      "metadata": {
        "id": "b3d9466c"
      },
      "outputs": [],
      "source": [
        "label_columns = df_train.columns.tolist()\n",
        "\n",
        "# 1. 데이터 EDA 검증 확인용\n",
        "#df_all = df_train\n",
        "\n",
        "# 2. 실제 데이터 전처리용\n",
        "df_all = pd.concat([df_train[label_columns], df_test[label_columns]])\n",
        "\n",
        "def change_data(col:str, data1:str, data2:str):\n",
        "    '''\n",
        "    col 칼럼에서,\n",
        "    데이터유형이 data2 인 행을\n",
        "    data1 로 치환하여 저장한다.\n",
        "    '''\n",
        "    fil1 = df_all[col] == data1\n",
        "    fil2 = df_all[col] == data2\n",
        "    df_all.loc[fil2, col] = data1\n",
        "    return df_all\n",
        "\n",
        "# 의미가 유사하거나, 동일한 데이터 유형\n",
        "li = [('Consultant', 'Architect/Consultant'),\n",
        "      ('Distributor', 'Dealer/Distributor'),\n",
        "      ('End Customer', 'End-Customer'),\n",
        "      ('Home Owner', 'Homeowner'),\n",
        "      ('Etc.', 'Other'),\n",
        "      ('Etc.', 'Others'),\n",
        "      ('Software / Solution Provide', 'Software/Solution Provide'),\n",
        "      ('Specifier / Influencer', 'Specifier/ Influencer'),\n",
        "      ('End Customer', 'End-user')]\n",
        "\n",
        "real_li = []\n",
        "\n",
        "# change_data 함수를 사용해 데이터 치환\n",
        "for data1, data2 in li:\n",
        "    change_data('customer_type', data1, data2)\n",
        "    real_li.append(data1)\n",
        "\n",
        "\n",
        "#결측치 처리\n",
        "df_all['customer_type'].fillna('No Comment', inplace=True)\n",
        "\n",
        "#이 외의 항목 Etc. 처리\n",
        "df_all.loc[~df_all['customer_type'].isin(real_li + ['No Comment']), 'customer_type'] = 'Etc.'\n"
      ]
    },
    {
      "cell_type": "code",
      "execution_count": 94,
      "id": "SY8JghJ8VbVk",
      "metadata": {
        "id": "SY8JghJ8VbVk"
      },
      "outputs": [],
      "source": [
        "# 다시 트레인과 테스트로 분리 (얘네들은 범주형 데이터들만 새로 넣어준거임!)\n",
        "for col in label_columns:\n",
        "    df_train[col] = df_all.iloc[: len(df_train)][col]\n",
        "    df_test[col] = df_all.iloc[len(df_train) :][col]"
      ]
    },
    {
      "cell_type": "code",
      "execution_count": 95,
      "id": "4uyNmBmwVCdj",
      "metadata": {
        "id": "4uyNmBmwVCdj"
      },
      "outputs": [],
      "source": [
        "# customer_type별 전횐률 칼럼 생성\n",
        "## df_train을 기준으로 전환율을 반영하여 DataLeakage를 방지한다!!\n",
        "customer_type_conversion_rates = df_train.groupby('customer_type')['is_converted'].mean()\n",
        "sorted_conversion_rates_series = customer_type_conversion_rates.sort_values(ascending=False)\n",
        "sorted_conversion_rates_series\n",
        "\n",
        "# df_all 데이터 프레임에 전환율 칼럼 생성\n",
        "# df_train의 전환율 데이터를 test에도 동일하게 적용한다\n",
        "df_all['customer_type_win_rate'] = df_all['customer_type'].map(sorted_conversion_rates_series)\n",
        "\n",
        "# customer_type_win_rate 칼럼 추가\n",
        "label_columns.append('customer_type_win_rate')"
      ]
    },
    {
      "cell_type": "markdown",
      "id": "sINUkR7DAo9H",
      "metadata": {
        "id": "sINUkR7DAo9H"
      },
      "source": [
        "### 2.4.2 데이터 유형별 전환율 확인\n",
        "\n",
        "\n",
        "> 전처리 이후 유형에 따른 전환율 확인 결과,평균 전환율 8%대인 전체 데이터에서  \n",
        "`customer_type`이 'End-customer` 인 경우 약 1.7배 전환율이 높다는 것을 확인하였습니다.\n",
        "\n"
      ]
    },
    {
      "cell_type": "code",
      "execution_count": 134,
      "id": "eL5xg6r7-eYc",
      "metadata": {
        "colab": {
          "base_uri": "https://localhost:8080/"
        },
        "id": "eL5xg6r7-eYc",
        "outputId": "0da96fee-961c-4abe-89de-4ab497129ce9"
      },
      "outputs": [
        {
          "name": "stdout",
          "output_type": "stream",
          "text": [
            "총 고객 : 60400\n",
            "작성된 고객 유형 : 60400\n",
            "결측치 비율 = 0.0\n",
            "\n",
            "\n",
            "\n",
            "=====고객 별 비율=====                     ===고객 별 전환비율=====\n",
            "No Comment                     : 73.19 %    고객 44207 중 5698  : 12.89\n",
            "End Customer                   : 18.95 %    고객 11443 중 2676  : 23.39\n",
            "Specifier / Influencer         : 4.24  %    고객 2561  중 390   : 15.23\n",
            "Etc.                           : 3.54  %    고객 2136  중 444   : 20.79\n",
            "Consultant                     : 0.05  %    고객 33    중 26    : 78.79\n",
            "Home Owner                     : 0.02  %    고객 14    중 6     : 42.86\n",
            "Distributor                    : 0.01  %    고객 6     중 0     : 0.0\n"
          ]
        }
      ],
      "source": [
        "# show_conversion_ratio('customer_type')"
      ]
    },
    {
      "cell_type": "markdown",
      "id": "f4686e24",
      "metadata": {
        "id": "f4686e24"
      },
      "source": [
        "## 2.5 customer_job\n",
        "\n",
        "\n",
        "> **'customer_job'** 은 **고객의 직업군** 에 관한 정보로, 총 561개 유형의 문자열 데이터로 구성되어 있습니다.\n",
        "\n"
      ]
    },
    {
      "cell_type": "markdown",
      "id": "wDgyjs5DA51M",
      "metadata": {
        "id": "wDgyjs5DA51M"
      },
      "source": [
        "### 2.5.1 데이터 전처리\n",
        "\n",
        "\n",
        "> 총 561개의 직업군 중 데이터의 갯수가 700개 이상인 유의미한 유형을 주요 직업으로 선정하였습니다.\n",
        "\n",
        "- 결측치는 No Comment 라는 새로운 데이터 유형으로 보간합니다.\n",
        "- test 데이터셋에서 등장할 수 있는 새로운 데이터 유형의 경우, 기존 항목의 others 항목으로 병합합니다.\n"
      ]
    },
    {
      "cell_type": "code",
      "execution_count": 97,
      "id": "708bd48b",
      "metadata": {
        "id": "708bd48b"
      },
      "outputs": [],
      "source": [
        "# 'other'를 'others'로 변경\n",
        "change_data('customer_job', 'others', 'other')\n",
        "\n",
        "# 주요 직업들 리스트\n",
        "li = ['engineering', 'administrative', 'education', 'sales',\n",
        "      'operations', 'purchasing', 'information technology',\n",
        "      'business development', 'consulting', 'arts and design',\n",
        "      'entrepreneurship', 'marketing', 'program and project management',\n",
        "      'others']\n",
        "\n",
        "# 결측치를 'No Comment'로 채움\n",
        "df_all['customer_job'].fillna('No Comment', inplace=True)\n",
        "\n",
        "# 기타 직업들을 모두 'others'로 병합\n",
        "fil = df_all['customer_job'].isin(li + ['No Comment'])\n",
        "df_all.loc[~fil, 'customer_job'] = 'others'\n"
      ]
    },
    {
      "cell_type": "code",
      "execution_count": 98,
      "id": "nWIaDnCZVkmX",
      "metadata": {
        "id": "nWIaDnCZVkmX"
      },
      "outputs": [],
      "source": [
        "# 다시 트레인과 테스트로 분리 (얘네들은 범주형 데이터들만 새로 넣어준거임!)\n",
        "for col in label_columns:\n",
        "    df_train[col] = df_all.iloc[: len(df_train)][col]\n",
        "    df_test[col] = df_all.iloc[len(df_train) :][col]"
      ]
    },
    {
      "cell_type": "code",
      "execution_count": 99,
      "id": "T6s-rMhOVlzP",
      "metadata": {
        "id": "T6s-rMhOVlzP"
      },
      "outputs": [],
      "source": [
        "## df_train을 기준으로 전환율을 반영\n",
        "customer_job_conversion_rates = df_train.groupby('customer_job')['is_converted'].mean()\n",
        "sorted_conversion_rates_series = customer_job_conversion_rates.sort_values(ascending=False)\n",
        "\n",
        "df_all['customer_job_win_rate'] = df_all['customer_job'].map(sorted_conversion_rates_series)\n",
        "\n",
        "# customer_job_win_rate 칼럼 추가\n",
        "label_columns.append('customer_job_win_rate')"
      ]
    },
    {
      "cell_type": "markdown",
      "id": "Porp74IXBITs",
      "metadata": {
        "id": "Porp74IXBITs"
      },
      "source": [
        "### 2.5.2 데이터 유형별 전환율 확인\n",
        "\n",
        "\n",
        ">\n",
        "- `customer_job`이 'technology' 혹은 'purchasing' 인 경우 전환율이 높았습니다.\n",
        "<br/>\n",
        "- 구체적인 명시를 하지 않은 'others' 인 경우 전환율이 높았습니다.\n",
        "\n"
      ]
    },
    {
      "cell_type": "code",
      "execution_count": 133,
      "id": "8370fffc",
      "metadata": {
        "colab": {
          "base_uri": "https://localhost:8080/"
        },
        "id": "8370fffc",
        "outputId": "20a6af1f-ba37-412b-c166-92e3c78c157e"
      },
      "outputs": [
        {
          "name": "stdout",
          "output_type": "stream",
          "text": [
            "총 고객 : 60400\n",
            "작성된 고객 유형 : 60400\n",
            "결측치 비율 = 0.0\n",
            "\n",
            "\n",
            "\n",
            "=====고객 별 비율=====                     ===고객 별 전환비율=====\n",
            "No Comment                     : 30.04 %    고객 18142 중 2676  : 14.75\n",
            "others                         : 21.22 %    고객 12818 중 1316  : 10.27\n",
            "engineering                    : 10.9  %    고객 6583  중 1116  : 16.95\n",
            "administrative                 : 5.96  %    고객 3602  중 640   : 17.77\n",
            "education                      : 4.08  %    고객 2464  중 408   : 16.56\n",
            "sales                          : 3.77  %    고객 2276  중 276   : 12.13\n",
            "information technology         : 3.68  %    고객 2223  중 650   : 29.24\n",
            "purchasing                     : 3.59  %    고객 2167  중 542   : 25.01\n",
            "operations                     : 3.32  %    고객 2004  중 260   : 12.97\n",
            "business development           : 3.16  %    고객 1909  중 346   : 18.12\n",
            "consulting                     : 2.37  %    고객 1431  중 252   : 17.61\n",
            "arts and design                : 2.16  %    고객 1307  중 162   : 12.39\n",
            "entrepreneurship               : 2.1   %    고객 1266  중 210   : 16.59\n",
            "marketing                      : 2.02  %    고객 1219  중 236   : 19.36\n",
            "program and project management : 1.64  %    고객 989   중 150   : 15.17\n"
          ]
        }
      ],
      "source": [
        "# show_conversion_ratio('customer_job')"
      ]
    },
    {
      "cell_type": "markdown",
      "id": "6d49820d",
      "metadata": {
        "id": "6d49820d"
      },
      "source": [
        "## 2.6 customer_position\n",
        "\n",
        "\n",
        "> **'customer_position'** 은 **고객의 회사 직책** 에 관한 정보로, 총 117개 유형의 문자열 데이터로 구성되어 있습니다.\n",
        "\n"
      ]
    },
    {
      "cell_type": "markdown",
      "id": "MmTFqB2-B3y2",
      "metadata": {
        "id": "MmTFqB2-B3y2"
      },
      "source": [
        "### 2.6.1 데이터 전처리\n",
        "\n",
        "\n",
        "> 데이터 갯수가 100개를 넘는 6개의 유의미한 유형을 주요 position 으로 지정하였습니다.\n",
        "- 결측치가 None 타입이 아닌, str 타입의 'none' 으로 저장되어 있었습니다. 유의미한 유형이 아닌 데이터유형 모두를 해당 데이터 유형으로 지정하였습니다.\n",
        "\n",
        "\n",
        "- 주요 position\n",
        "  - manager\n",
        "  - ceo/founder\n",
        "  - director\n",
        "  - associate/analyst\n",
        "  - partner\n",
        "  - entry level\n",
        "  - none\n",
        "\n",
        "- 결측치는 No Comment 라는 새로운 데이터 유형으로 보간합니다.\n",
        "- test 데이터셋에서 등장할 수 있는 새로운 데이터 유형의 경우, 기존 항목의 none 항목으로 병합합니다.\n",
        "\n"
      ]
    },
    {
      "cell_type": "code",
      "execution_count": 101,
      "id": "a9cd2cfb",
      "metadata": {
        "id": "a9cd2cfb"
      },
      "outputs": [],
      "source": [
        "# 'others', 'other'를 'none'으로 변경\n",
        "change_data('customer_position', 'none', 'others')\n",
        "change_data('customer_position', 'none', 'other')\n",
        "\n",
        "# 주요 직무\n",
        "li = ['manager', 'ceo/founder', 'director', 'associate/analyst', 'partner', 'entry level']\n",
        "\n",
        "# 결측치를 'No Comment'로 채움\n",
        "df_all['customer_position'].fillna('No Comment', inplace=True)\n",
        "\n",
        "# 기타 직무들을 모두 'none'으로 병합\n",
        "fil = df_all['customer_position'].isin(li + ['No Comment'])\n",
        "df_all.loc[~fil, 'customer_position'] = 'none'"
      ]
    },
    {
      "cell_type": "code",
      "execution_count": 102,
      "id": "0lN2G6nyVciw",
      "metadata": {
        "id": "0lN2G6nyVciw"
      },
      "outputs": [],
      "source": [
        "# 다시 트레인과 테스트로 분리 (얘네들은 범주형 데이터들만 새로 넣어준거임!)\n",
        "for col in label_columns:\n",
        "    df_train[col] = df_all.iloc[: len(df_train)][col]\n",
        "    df_test[col] = df_all.iloc[len(df_train) :][col]"
      ]
    },
    {
      "cell_type": "code",
      "execution_count": 103,
      "id": "p3BYL0pUVT3A",
      "metadata": {
        "id": "p3BYL0pUVT3A"
      },
      "outputs": [],
      "source": [
        "# customer_position 전횐률 칼럼 생성\n",
        "customer_position_conversion_rates = df_train.groupby('customer_position')['is_converted'].mean()\n",
        "sorted_conversion_rates_series = customer_position_conversion_rates.sort_values(ascending=False)\n",
        "df_all['customer_position_win_rate'] = df_all['customer_position'].map(sorted_conversion_rates_series)\n",
        "\n",
        "label_columns.append('customer_position_win_rate')"
      ]
    },
    {
      "cell_type": "markdown",
      "id": "KMwmF4fhCBY3",
      "metadata": {
        "id": "KMwmF4fhCBY3"
      },
      "source": [
        "### 2.6.2 데이터 유형별 전환율 확인\n",
        "\n",
        "\n",
        "> - customer_position이 'manager' 혹은 'analyst 인 경우 전환율이 높았습니다.\n",
        "> - 구체적인 명시를 하지 않은 'none' 인 경우 전환율이 낮았습니다.\n"
      ]
    },
    {
      "cell_type": "code",
      "execution_count": 132,
      "id": "5f8a0145",
      "metadata": {
        "colab": {
          "base_uri": "https://localhost:8080/"
        },
        "id": "5f8a0145",
        "outputId": "c75c357f-8a04-4f7e-876f-b5d23c5f1478"
      },
      "outputs": [
        {
          "name": "stdout",
          "output_type": "stream",
          "text": [
            "총 고객 : 60400\n",
            "작성된 고객 유형 : 60400\n",
            "결측치 비율 = 0.0\n",
            "\n",
            "\n",
            "\n",
            "=====고객 별 비율=====                     ===고객 별 전환비율=====\n",
            "none                           : 50.27 %    고객 30363 중 4152  : 13.67\n",
            "manager                        : 14.44 %    고객 8723  중 1636  : 18.76\n",
            "ceo/founder                    : 13.9  %    고객 8393  중 1296  : 15.44\n",
            "director                       : 8.55  %    고객 5164  중 858   : 16.62\n",
            "associate/analyst              : 4.68  %    고객 2829  중 644   : 22.76\n",
            "partner                        : 4.48  %    고객 2708  중 460   : 16.99\n",
            "entry level                    : 3.68  %    고객 2220  중 194   : 8.74\n"
          ]
        }
      ],
      "source": [
        "# # 데이터 시각화 코드\n",
        "# show_conversion_ratio('customer_position')"
      ]
    },
    {
      "cell_type": "markdown",
      "id": "6eae6499",
      "metadata": {
        "id": "6eae6499"
      },
      "source": [
        "## 2.7 response_corporate\n",
        "\n",
        "\n",
        "\n",
        "> **'response_corporate'** 은 **담당 자사 법인명** 정보로, 총 53개 유형의 문자열 데이터로 구성되어 있습니다."
      ]
    },
    {
      "cell_type": "markdown",
      "id": "PiYD25VcD2qy",
      "metadata": {
        "id": "PiYD25VcD2qy"
      },
      "source": [
        "### 2.7.1 데이터 전처리\n",
        "\n",
        "- 또한, 내부 데이터 타입이 LG 지사 코드임을 확인하고 국내 홈페이지에서 코드별 지사 장소를 확인하였습니다.\n",
        "\n",
        "> 내부 데이터 타입이 LG 지사 코드임을 확인하고 국내 홈페이지에서 코드별 지사 장소를 확인하였습니다.\n",
        "  - LG 사업장 확인 홈페이지 : https://www.lge.co.kr/company/info/overseas  \n",
        "\n",
        "- 이를 통해, **총 53개의 코드에 51개의 국가정보와 6개의 대륙정보를 파악**하였으며, 이를 기반으로 **코드별 국가명 'country', 코드별 대륙명 'continent'** 를 새롭게 생성하였습니다.\n"
      ]
    },
    {
      "cell_type": "code",
      "execution_count": 105,
      "id": "43870dd0",
      "metadata": {
        "id": "43870dd0"
      },
      "outputs": [],
      "source": [
        "data = \"\"\"\n",
        "Austria\t'LGEAG'\n",
        "Czech Republic\t'LGECZ'\n",
        "France\t'LGEFS'\n",
        "Germany\t'LGEDG'\n",
        "Greece\t'LGEHS'\n",
        "Hungary\t'LGEMK'\n",
        "Italy\t'LGEIS'\n",
        "Netherlands\t'LGESC', 'LGEEH', 'LGEBN'\n",
        "Poland\t'LGEWR', 'LGEPL', 'LGEMA'\n",
        "Portugal\t'LGEPT'\n",
        "Romania\t'LGERO'\n",
        "Spain\t'LGEES'\n",
        "Sweden\t'LGENO', 'LGESW'\n",
        "United Kingdom\t'LGEUK'\n",
        "Algeria\t'LGEAS'\n",
        "Egypt\t'LGEEG'\n",
        "Jordan\t'LGELF'\n",
        "Kenya\t'LGESK'\n",
        "Morocco\t'LGEMC'\n",
        "Saudi Arabia\t'LGE', 'LGE'\n",
        "The Republic of South Africa\t'LGESA'\n",
        "Tunisia\t'LGETU'\n",
        "U.A.E\t'LGEOT', 'LGEDF', 'LGEGF', 'LGEME', 'LGEAF'\n",
        "Nigeria\t'LGEAO', 'Easytec', 'LGENI'\n",
        "Turkey\t'LGETK', 'LGEAT'\n",
        "Kazakhstan\t'LGEAK'\n",
        "Russia\t'LGERM', 'LGERI', 'LGERA'\n",
        "Ukraine\t'LGEUR'\n",
        "Latvia\t'LGELV'\n",
        "Australia\t'LGEAP'\n",
        "China\t'LGEQA', 'LGETL', 'LGECH', 'LGEYT', 'LGETR', 'LGETA', 'LGESY', 'LGESH', 'LGEQH', 'LGEQD', 'LGEPN', 'LGEND', 'LGEKS', 'LGEHZ', 'LGEHN', 'LGEHK'\n",
        "India\t'LGEIL'\n",
        "Indonesia\t'LGEIN'\n",
        "Japan\t'LGEJP'\n",
        "Malaysia\t'LGEML'\n",
        "Philippines\t'LGEPH'\n",
        "Singapore\t'LGESL'\n",
        "Taiwan\t'LGETT'\n",
        "Thailand\t'LGETH'\n",
        "Vietnam\t'LGEVN'\n",
        "Canada\t'LGECI'\n",
        "Mexico\t'LGERS', 'LGEMX', 'LGEMS', 'LGEMM'\n",
        "United States\t'Zenith Electronics Corporation of Pennsylvania', 'ZENITH', 'LGEMR', 'LGEUS', 'LGEMU', 'LGEAI'\n",
        "Argentina\t'LGEAG'\n",
        "Brazil\t'LGEBR'\n",
        "Chile\t'LGECL'\n",
        "Colombia\t'LGEVZ', 'LGECB'\n",
        "Panama\tGuatemala\t'LGEPS'\n",
        "Peru\t'LGEPR'\n",
        "\n",
        "\"\"\"\n",
        "\n",
        "continent = {'Austria' : 'europe',\n",
        "'Czech Republic' : 'europe',\n",
        "'France' : 'europe',\n",
        "'Germany' : 'europe',\n",
        "'Greece' : 'europe',\n",
        "'Hungary' : 'europe',\n",
        "'Italy' : 'europe',\n",
        "'Netherlands' : 'europe',\n",
        "'Poland' : 'europe',\n",
        "'Portugal' : 'europe',\n",
        "'Romania' : 'europe',\n",
        "'Spain' : 'europe',\n",
        "'Sweden' : 'europe',\n",
        "'United Kingdom' : 'europe',\n",
        "'EU' : 'europe', # europe\n",
        "'Algeria': 'africa',\n",
        "'Egypt': 'africa',\n",
        "'Jordan': 'africa',\n",
        "'Kenya': 'africa',\n",
        "'Morocco': 'africa',\n",
        "'Saudi Arabia': 'africa',\n",
        "'The Republic of South Africa': 'africa',\n",
        "'Tunisia': 'africa',\n",
        "'U.A.E': 'africa',\n",
        "'Nigeria': 'africa',\n",
        "'Turkey': 'africa',\n",
        "'Saudi Arabia': 'africa',\n",
        "'east africa' : 'africa',\n",
        "'Israel' : 'africa',\n",
        "'Iran' : 'africa', # africa\n",
        "'Kazakhstan':'russia',\n",
        "'Russia':'russia',\n",
        "'Ukraine':'russia',\n",
        "'Latvia':'russia', # russia\n",
        "'Australia' : 'asia',\n",
        "'China' : 'asia',\n",
        "'India' : 'asia',\n",
        "'Indonesia' : 'asia',\n",
        "'Japan' : 'asia',\n",
        "'Malaysia' : 'asia',\n",
        "'Philippines' : 'asia',\n",
        "'Singapore' : 'asia',\n",
        "'Taiwan' : 'asia',\n",
        "'Thailand' : 'asia',\n",
        "'Vietnam' : 'asia',\n",
        "'Korea':'asia',\n",
        "'Bhutan':'asia', # asia\n",
        "'Canada' : 'north america',\n",
        "'Mexico' : 'north america',\n",
        "'United States' : 'north america', # north america\n",
        "'Argentina' : 'latin america',\n",
        "'Brazil' : 'latin america',\n",
        "'Chile' : 'latin america',\n",
        "'Colombia' : 'latin america',\n",
        "'Panama' : 'latin america',\n",
        "'Peru' : 'latin america',\n",
        "'Sao Paulo' : 'latin america', # latin america\n",
        "            'unknown':'unknown'}\n",
        "\n",
        "code_to_country = {}\n",
        "\n",
        "real_dict = {}\n",
        "lines = data.strip().split('\\n')\n",
        "\n",
        "for line in lines:\n",
        "    country, *codes = line.split('\\t')\n",
        "    for code in codes:\n",
        "        code_to_country[code] = code_to_country.get(code, []) + [country]\n",
        "\n",
        "for codes, country in code_to_country.items():\n",
        "    if len(codes) > 8:\n",
        "        for code in codes.split(', '):\n",
        "            real_dict[code[1:-1]]= country[0]\n",
        "    else:\n",
        "        real_dict[codes[1:-1]]= country[0]\n",
        "\n",
        "#23년에는 남아있지 않은 지사\n",
        "real_dict['LGESP'] = 'Brazil'\n",
        "real_dict['LGESJ'] = 'Saudi Arabia'\n",
        "real_dict['LGEVH'] = 'Vietnam'\n",
        "real_dict['LGEAR'] = 'Argentina'\n",
        "real_dict['LGELA'] = 'Latvia' #europe\n",
        "#LG의 한국약칭\n",
        "real_dict['LGEKR'] = 'Korea'\n",
        "\n",
        "#그 외\n",
        "real_dict['LGEEF'] = 'east africa'\n",
        "real_dict['LGEYK'] = 'Israel'\n",
        "real_dict['LGEEB'] = 'EU'\n",
        "real_dict['LGEIR'] = 'Iran' # 이란\n",
        "real_dict['LGEBT'] = 'Bhutan' # 부탄\n",
        "\n",
        "\n",
        "# 나라 칼럼 형성\n",
        "df_all['country'] = df_all['response_corporate']\n",
        "\n",
        "# 대륙 칼럼 생성\n",
        "df_all['continent'] = df_all['response_corporate']\n",
        "\n",
        "\n",
        "for name, count in zip(df_all['response_corporate'].value_counts().index, df_all['response_corporate'].value_counts()):\n",
        "\n",
        "    # 나라 칼럼 형성\n",
        "    df_all.loc[df_all['response_corporate']== name,'country'] = real_dict[name]\n",
        "    # 대륙 칼럼 생성성\n",
        "    df_all.loc[df_all['response_corporate']== name,'continent'] = continent[real_dict[name]]\n",
        "\n",
        "# 결측치를 'No Comment'로 채움\n",
        "df_all['response_corporate'].fillna('No Comment', inplace=True)\n",
        "\n",
        "# 기타 항목 모두 'etc.'으로 병합\n",
        "fil = df_all['response_corporate'].isin(list(real_dict.keys()) + ['No Comment'])\n",
        "df_all.loc[~fil, 'country'] = 'etc.'\n",
        "df_all.loc[~fil, 'continent'] = 'etc.'\n",
        "\n",
        "# country, continent 칼럼 추가\n",
        "label_columns.append('country')\n",
        "label_columns.append('continent')"
      ]
    },
    {
      "cell_type": "code",
      "execution_count": 106,
      "id": "j_YTNtEzVvy4",
      "metadata": {
        "id": "j_YTNtEzVvy4"
      },
      "outputs": [],
      "source": [
        "# response_corporate 전횐률 칼럼 생성\n",
        "\n",
        "response_corporate_conversion_rates = df_train.groupby('response_corporate')['is_converted'].mean()\n",
        "sorted_conversion_rates_series = response_corporate_conversion_rates.sort_values(ascending=False)\n",
        "\n",
        "df_all['response_corporate_win_rate'] = df_all['response_corporate'].map(sorted_conversion_rates_series)\n",
        "label_columns.append('response_corporate_win_rate')\n",
        "\n",
        "for col in label_columns:\n",
        "    df_train[col] = df_all.iloc[: len(df_train)][col]\n",
        "    df_test[col] = df_all.iloc[len(df_train) :][col]"
      ]
    },
    {
      "cell_type": "markdown",
      "id": "KD2l0E4-EVNW",
      "metadata": {
        "id": "KD2l0E4-EVNW"
      },
      "source": [
        "### 2.7.2 데이터 유형별 전환율 확인\n",
        "\n",
        "\n",
        "> 새롭게 생성한 country 와 continent 에 따라 상이한 전환율도 확인하였습니다.\n",
        "\n",
        "- **'country'** 중 US는 평균 전환율의 두 배를 보였고, Mexico는 거래량은 많았으나 전환율이 높지 않았습니다.\n",
        "- **'continent'** 의 경우 남아메리카권 국가는 전환율이 높았고, 유럽권의 경우 전환율은 낮았습니다."
      ]
    },
    {
      "cell_type": "code",
      "execution_count": 107,
      "id": "02d9f666",
      "metadata": {
        "colab": {
          "base_uri": "https://localhost:8080/"
        },
        "id": "02d9f666",
        "outputId": "f1ad8e3b-9e3a-4950-a24e-0473cc0a8108"
      },
      "outputs": [
        {
          "name": "stdout",
          "output_type": "stream",
          "text": [
            "총 고객 : 55780\n",
            "작성된 고객 유형 : 55780\n",
            "결측치 비율 = 0.0\n",
            "\n",
            "\n",
            "\n",
            "=====고객 별 비율=====                     ===고객 별 전환비율=====\n",
            "India                          : 29.91 %    고객 16684 중 1197  : 7.17\n",
            "Brazil                         : 15.79 %    고객 8808  중 669   : 7.6\n",
            "United States                  : 9.21  %    고객 5136  중 779   : 15.17\n",
            "Philippines                    : 4.56  %    고객 2542  중 231   : 9.09\n",
            "Mexico                         : 4.54  %    고객 2531  중 154   : 6.08\n",
            "U.A.E                          : 4.13  %    고객 2303  중 390   : 16.93\n",
            "Colombia                       : 3.61  %    고객 2011  중 74    : 3.68\n",
            "United Kingdom                 : 2.93  %    고객 1634  중 25    : 1.53\n",
            "Chile                          : 2.25  %    고객 1255  중 96    : 7.65\n",
            "Panama                         : 2.19  %    고객 1222  중 91    : 7.45\n"
          ]
        }
      ],
      "source": [
        "# show_conversion_ratio('country', 10)"
      ]
    },
    {
      "cell_type": "markdown",
      "id": "FTunw-13tiEZ",
      "metadata": {
        "id": "FTunw-13tiEZ"
      },
      "source": [
        "## 2.8 customer_country\n",
        "\n",
        "\n",
        "> **'customer_country'** 는 고객의 국가에 대한 정보로, 총 15400개 유형의 문자열 데이터로 구성되어 있습니다."
      ]
    },
    {
      "cell_type": "markdown",
      "id": "xfVPg3OjE4E_",
      "metadata": {
        "id": "xfVPg3OjE4E_"
      },
      "source": [
        "### 2.8.1 결측치 확인\n",
        "\n",
        "\n",
        "> 결측치: 974개(1.75%)"
      ]
    },
    {
      "cell_type": "code",
      "execution_count": 108,
      "id": "M2Y-RTaeGYaK",
      "metadata": {
        "colab": {
          "base_uri": "https://localhost:8080/"
        },
        "id": "M2Y-RTaeGYaK",
        "outputId": "6e4f5f67-b682-4454-cbdb-382575c11aa1"
      },
      "outputs": [
        {
          "name": "stdout",
          "output_type": "stream",
          "text": [
            "customer_country 칼럼의 결측 개수: 974, 비율: 1.75%\n"
          ]
        }
      ],
      "source": [
        "customer_country_missing_value = calculate_missing_values(df_train, 'customer_country')\n",
        "print(customer_country_missing_value)"
      ]
    },
    {
      "cell_type": "markdown",
      "id": "rKaWuthQH4tC",
      "metadata": {
        "id": "rKaWuthQH4tC"
      },
      "source": [
        "### 2.8.2 데이터 전처리\n",
        "\n",
        "\n",
        "> 데이터를 탐색해 본 결과 **'customer_country'** 는 크게 지역/국가, //국가, 도로주소/국가, 이메일 등의 형식으로 구성된 것을 확인하였습니다.\n",
        "- 따라서, 좀 더 명확하게 데이터를 분류하기 위해 다음과 같이 데이터 유형을 병합하고, 고객이 300명 이상인 주요 22개의 국가를 선정하였습니다.\n",
        "\n",
        "- 맨 뒤 / 이후로의 값만 남깁니다.\n",
        "- 이메일 형식으로 작성된 값은 'etc'로 대체합니다.\n",
        "- 대소문자, 띄어쓰기 등의 표기법 차이만 있는 경우를 하나의 데이터 유형으로 병합합니다.\n",
        "- 고객이 300명 이상인 주요 22개의 국가를 선정하고, 나머지 국가는 'etc'로 대체합니다.\n",
        "\n",
        "\n",
        "\n"
      ]
    },
    {
      "cell_type": "code",
      "execution_count": 109,
      "id": "Nb9aigQEHIKK",
      "metadata": {
        "colab": {
          "base_uri": "https://localhost:8080/"
        },
        "id": "Nb9aigQEHIKK",
        "outputId": "0333397e-9533-44cf-c1ea-acca494e2d81"
      },
      "outputs": [
        {
          "name": "stdout",
          "output_type": "stream",
          "text": [
            "데이터 유형:  15400 개\n",
            "['/Quezon City/Philippines' '/PH-00/Philippines' '/Kolkata /India' ...\n",
            " '/Pisco/Peru' '/santa cruz bolivia/Peru' '/paris/France']\n"
          ]
        }
      ],
      "source": [
        "print(\"데이터 유형: \", len(df_train['customer_country'].unique()), \"개\")\n",
        "print(df_train['customer_country'].unique())"
      ]
    },
    {
      "cell_type": "code",
      "execution_count": 110,
      "id": "fAtxjTC9tncA",
      "metadata": {
        "id": "fAtxjTC9tncA"
      },
      "outputs": [],
      "source": [
        "# label_columns가 칼럼 전부 포함하도록 수정(is_converted와의 비율 계산을 위해)\n",
        "label_columns = df_train.columns.tolist()\n",
        "df_all = pd.concat([df_train[label_columns], df_test[label_columns]])\n",
        "\n",
        "# 맨 뒤 / 이후로의 값만 남김\n",
        "df_all['customer_country'] = df_all['customer_country'].astype(str).apply(lambda x: x.split('/')[-1] if '/' in x else x)\n",
        "\n",
        "# 이메일 -> etc\n",
        "df_all['customer_country'] = df_all['customer_country'].apply(lambda x: 'etc' if '@' in x else x)\n",
        "df_all['customer_country'] = df_all['customer_country'].replace(\"nan\", 'etc')\n",
        "df_all['customer_country'] = df_all['customer_country'].replace('', 'etc')\n",
        "\n",
        "def clean_country(country):\n",
        "    country = country.strip().upper()\n",
        "    if \"UNITED STATES\" in country or \"U.S.\" in country or \"US\" in country or re.search(r'[A-Z]{2}\\s\\d{5}', country) or re.search(r'[A-Z]{2}\\d{5}', country) or \"NY\" in country:\n",
        "        return \"USA\"\n",
        "    elif \"COLOMBIA\" in country or \"BOGOTA\" in country:\n",
        "        return \"Colombia\"\n",
        "    elif \"PAULO\" in country:\n",
        "        return \"Brazil\"\n",
        "    elif \"ITALY\" in country or \"CARINI\" in country:\n",
        "        return \"ITALY\"\n",
        "    elif \"TÜRKIY\" in country:\n",
        "        return \"Turkey\"\n",
        "    elif \"ODISHA\" in country:\n",
        "        return \"INDIA\"\n",
        "    elif \"UAE\" in country:\n",
        "        return \"U.A.E\"\n",
        "    elif \"TANZANIA\" in country:\n",
        "        return \"Tanzania\"\n",
        "    else:\n",
        "        return country\n",
        "\n",
        "df_all['customer_country'] = df_all['customer_country'].apply(clean_country)\n",
        "\n",
        "country_name = df_all['customer_country'].value_counts()[:22].index\n",
        "\n",
        "li = list(country_name)\n",
        "\n",
        "# 기타를 모두 ETC 로 병합\n",
        "fil = df_all['customer_country'].isin(li)\n",
        "df_all.loc[~fil,'customer_country'] = 'ETC'\n",
        "\n",
        "# 결측치를 'No Comment'로 채움\n",
        "df_all['customer_country'].fillna('No Comment', inplace=True)"
      ]
    },
    {
      "cell_type": "code",
      "execution_count": 111,
      "id": "gmop1MWHtqif",
      "metadata": {
        "id": "gmop1MWHtqif"
      },
      "outputs": [],
      "source": [
        "# 다시 트레인과 테스트로 분리\n",
        "for col in label_columns:\n",
        "    df_train[col] = df_all.iloc[: len(df_train)][col]\n",
        "    df_test[col] = df_all.iloc[len(df_train) :][col]"
      ]
    },
    {
      "cell_type": "markdown",
      "id": "fIX8jnZsFOKb",
      "metadata": {
        "id": "fIX8jnZsFOKb"
      },
      "source": [
        "### 2.8.3 데이터 유형별 전환율 확인\n",
        "\n",
        "\n",
        "> 'customer_county'의 데이터 유형별 전환율을 확인하고, 새로운 전환율 칼럼 'customer_country_win_ration'칼럼을 생성하였습니다.\n",
        "\n"
      ]
    },
    {
      "cell_type": "code",
      "execution_count": 112,
      "id": "FXa4snEdFTtm",
      "metadata": {
        "colab": {
          "base_uri": "https://localhost:8080/"
        },
        "id": "FXa4snEdFTtm",
        "outputId": "852f6529-cd3f-4315-9e73-739a7fae3bdd"
      },
      "outputs": [
        {
          "name": "stdout",
          "output_type": "stream",
          "text": [
            "총 고객 : 55780\n",
            "작성된 고객 유형 : 55780\n",
            "결측치 비율 = 0.0\n",
            "\n",
            "\n",
            "\n",
            "=====고객 별 비율=====                     ===고객 별 전환비율=====\n",
            "INDIA                          : 29.8  %    고객 16624 중 1180  : 7.1\n",
            "BRAZIL                         : 14.77 %    고객 8237  중 554   : 6.73\n",
            "ETC                            : 14.43 %    고객 8047  중 735   : 9.13\n",
            "USA                            : 8.3   %    고객 4630  중 790   : 17.06\n",
            "MEXICO                         : 4.51  %    고객 2515  중 156   : 6.2\n",
            "PHILIPPINES                    : 4.42  %    고객 2467  중 229   : 9.28\n",
            "Colombia                       : 3.45  %    고객 1927  중 69    : 3.58\n",
            "U.A.E                          : 2.74  %    고객 1530  중 213   : 13.92\n",
            "UNITED KINGDOM                 : 2.69  %    고객 1501  중 24    : 1.6\n",
            "CHILE                          : 2.05  %    고객 1146  중 87    : 7.59\n",
            "SAUDI ARABIA                   : 2.04  %    고객 1140  중 114   : 10.0\n",
            "PERU                           : 1.8   %    고객 1006  중 42    : 4.17\n",
            "ITALY                          : 1.54  %    고객 857   중 8     : 0.93\n",
            "POLAND                         : 1.37  %    고객 762   중 55    : 7.22\n",
            "EGYPT                          : 0.99  %    고객 554   중 16    : 2.89\n",
            "SPAIN                          : 0.98  %    고객 548   중 13    : 2.37\n",
            "VIETNAM                        : 0.93  %    고객 516   중 11    : 2.13\n",
            "ARGENTINA                      : 0.89  %    고객 497   중 87    : 17.51\n",
            "HONG KONG                      : 0.68  %    고객 377   중 156   : 41.38\n",
            "PANAMA                         : 0.6   %    고객 333   중 31    : 9.31\n",
            "FRANCE                         : 0.54  %    고객 300   중 16    : 5.33\n",
            "INDONESIA                      : 0.48  %    고객 266   중 34    : 12.78\n"
          ]
        }
      ],
      "source": [
        "# show_conversion_ratio('customer_country', 22)"
      ]
    },
    {
      "cell_type": "code",
      "execution_count": 113,
      "id": "fVQfG2UBtsZj",
      "metadata": {
        "id": "fVQfG2UBtsZj"
      },
      "outputs": [],
      "source": [
        "# customer_country 전횐률 칼럼 생성\n",
        "customer_country_conversion_rates = df_train.groupby('customer_country')['is_converted'].mean()\n",
        "sorted_conversion_rates_series = customer_country_conversion_rates.sort_values(ascending=False)\n",
        "\n",
        "df_all['customer_country_win_rate'] = df_all['customer_country'].map(sorted_conversion_rates_series)\n",
        "label_columns.append('customer_country_win_rate')"
      ]
    },
    {
      "cell_type": "markdown",
      "id": "GlQb80JNlueM",
      "metadata": {
        "id": "GlQb80JNlueM"
      },
      "source": [
        "## 2.9 business_area & business_subarea\n",
        "\n",
        "\n",
        "\n",
        "> **'business_area'는 고객의 사업 영역, 'business_subarea'는 고객의 세부 사업 영역** 정보로, 각각 13개, 87개의 유형의 문자열로 구성되어 있습니다.\n",
        "\n"
      ]
    },
    {
      "cell_type": "markdown",
      "id": "6hUqFbvCnVPP",
      "metadata": {
        "id": "6hUqFbvCnVPP"
      },
      "source": [
        "### 2.9.1 데이터 탐색\n",
        "\n",
        "\n",
        "> 데이터 탐색 결과, business_area & business_subarea을 작성 여부에 따른 전환율 차이를 발견했습니다.\n",
        "\n",
        "  - business_area, business_subarea를 모두 작성하지 않은 경우의 전환율 = 8%\n",
        "  - business_area는 작성하고, business_subarea는 작성하지 않은 경우의 전환율 = 2%\n",
        "  - business_area는 작성하지 않고, business_subarea만 작성한 경우는 존재하지 않음 (데이터 0)\n",
        "  - business_area, business_subarea 모두 작성한 경우의 전환율 = 18%\n",
        "\n",
        "\n",
        "\n"
      ]
    },
    {
      "cell_type": "code",
      "execution_count": 114,
      "id": "IAdqM1KBpYpg",
      "metadata": {
        "colab": {
          "base_uri": "https://localhost:8080/"
        },
        "id": "IAdqM1KBpYpg",
        "outputId": "72a8408e-27e2-4e6a-a70e-61f694bc46d8"
      },
      "outputs": [
        {
          "name": "stdout",
          "output_type": "stream",
          "text": [
            "둘 다 작성하지 않은 경우: 37993 3354 0.08827941989313821\n",
            "business_area만 작성한 경우: 12607 330 0.026175934004917904\n",
            "business_subarea만 작성한 경우: 0 0 nan\n",
            "둘 다 작성한 경우: 5180 936 0.1806949806949807\n"
          ]
        }
      ],
      "source": [
        "df_filtered = df_train[df_train['business_area'].isna()&df_train['business_subarea'].isna()]\n",
        "\n",
        "number_of_entries = len(df_filtered)\n",
        "number_of_conversions = df_filtered['is_converted'].sum()\n",
        "conversion_rate = df_filtered['is_converted'].mean()\n",
        "\n",
        "print(\"둘 다 작성하지 않은 경우:\", number_of_entries, number_of_conversions, conversion_rate)\n",
        "\n",
        "df_filtered = df_train[df_train['business_area'].notna()&df_train['business_subarea'].isna()]\n",
        "\n",
        "number_of_entries = len(df_filtered)\n",
        "number_of_conversions = df_filtered['is_converted'].sum()\n",
        "conversion_rate = df_filtered['is_converted'].mean()\n",
        "\n",
        "print(\"business_area만 작성한 경우:\", number_of_entries, number_of_conversions, conversion_rate)\n",
        "\n",
        "df_filtered = df_train[df_train['business_area'].isna()&df_train['business_subarea'].notna()]\n",
        "\n",
        "number_of_entries = len(df_filtered)\n",
        "number_of_conversions = df_filtered['is_converted'].sum()\n",
        "conversion_rate = df_filtered['is_converted'].mean()\n",
        "\n",
        "print(\"business_subarea만 작성한 경우:\", number_of_entries, number_of_conversions, conversion_rate)\n",
        "\n",
        "df_filtered = df_train[df_train['business_area'].notna()&df_train['business_subarea'].notna()]\n",
        "\n",
        "number_of_entries = len(df_filtered)\n",
        "number_of_conversions = df_filtered['is_converted'].sum()\n",
        "conversion_rate = df_filtered['is_converted'].mean()\n",
        "\n",
        "print(\"둘 다 작성한 경우:\", number_of_entries, number_of_conversions, conversion_rate)\n"
      ]
    },
    {
      "cell_type": "markdown",
      "id": "tlObZPN1qlzS",
      "metadata": {
        "id": "tlObZPN1qlzS"
      },
      "source": [
        "### 2.9.2 데이터 전처리\n",
        "\n",
        "\n",
        "> 따라서, 각각의 경우에 기반하여 가중치를 부여한 'all_business_area'칼럼을 생성하였습니다.\n",
        "- area와 subarea 모두 값이 있는 경우: 1\n",
        "- area는 값이 없고 subarea는 값이 있는 경우 또는 그 반대의 경우: 0\n",
        "- area와 subarea 모두 값이 없는 경우: 0.5\n"
      ]
    },
    {
      "cell_type": "code",
      "execution_count": 115,
      "id": "tzNgmYwGtwAK",
      "metadata": {
        "id": "tzNgmYwGtwAK"
      },
      "outputs": [],
      "source": [
        "# 조건에 따라 값 할당\n",
        "\n",
        "conditions = [\n",
        "    (df_all['business_area'].notna()) & (df_all['business_subarea'].notna()), # area=notna, subarea=notna\n",
        "    (df_all['business_area'].isna()) & (df_all['business_subarea'].notna()),  # area=isna, subarea=notna\n",
        "    (df_all['business_area'].notna()) & (df_all['business_subarea'].isna()),  # area=notna, subarea=isna\n",
        "    (df_all['business_area'].isna()) & (df_all['business_subarea'].isna())    # area=isna, subarea=isna\n",
        "]\n",
        "choices = [1, 0, 0, 0.5]\n",
        "\n",
        "# 각 조건에 따라 선택한 값 할당\n",
        "df_all['all_business_area_details'] = 0  # 초기화\n",
        "for i, cond in enumerate(conditions):\n",
        "    df_all.loc[cond, 'all_business_area_details'] = choices[i]\n",
        "\n",
        "label_columns.append('all_business_area_details')"
      ]
    },
    {
      "cell_type": "code",
      "execution_count": 116,
      "id": "5IBf8b4wtzZ1",
      "metadata": {
        "id": "5IBf8b4wtzZ1"
      },
      "outputs": [],
      "source": [
        "# 다시 트레인과 테스트로 분리\n",
        "for col in label_columns:\n",
        "    df_train[col] = df_all.iloc[: len(df_train)][col]\n",
        "    df_test[col] = df_all.iloc[len(df_train) :][col]"
      ]
    },
    {
      "cell_type": "markdown",
      "id": "9oP4B2xhrks_",
      "metadata": {
        "id": "9oP4B2xhrks_"
      },
      "source": [
        "## 2.10 기타 수치형 칼럼 5종\n",
        "\n",
        "\n",
        "\n",
        " - **historical_existing_cnt**는 이전에 Converted(영업 전환) 되었던 횟수 정보로, 0 ~ 1394까지의 값으로 구성되어 있습니다.\n",
        "- **lead_desc_length**는 고객이 작성한 Lead Descriptoin 텍스트 총 길이로 909개의 데이터가 존재하며 1~1264 사이의 값을 가지고 있습니다.\n",
        "- **com_reg_ver_win_rate**은 Vertical Level 1, business unit, region을 기준으로 oppty 비율을 계산한 값으로 0.003~1사이의 값을 가지고 있습니다.\n",
        "- **ver_win_rate_x**은 전체 Lead 중에서 Vertical 을 기준으로 Vertical 수 비율과 Vertical 별 Lead 수 대비 영업 전환 성공 비율 값을 곱한 값으로, 0 ~ 0.003사이의 값을 가지고 있습니다.\n",
        "- **ver_win_ratio_per_bu**은 특정 Vertical Level1의 Business Unit 별 샘플 수 대비 영업 전환된 샘플 수의 비율을 계산한 값으로 0.01 ~ 0.03 사이의 값을 가지고 있습니다."
      ]
    },
    {
      "cell_type": "markdown",
      "id": "uza-6SQILHPl",
      "metadata": {
        "id": "uza-6SQILHPl"
      },
      "source": [
        "### 2.10.1 데이터 전처리\n",
        " * historical_existing_cnt 결측치: 45543개(76.80%)\n",
        "  * historical_existing_cnt 칼럼은 결측 비율이 높으며 전환율과의 관계 또한 일정하지 않아 제거하기로 결정하였습니다.\n",
        "* lead_desc_length는 결측치가 존재하지 않습니다.\n"
      ]
    },
    {
      "cell_type": "code",
      "execution_count": 117,
      "id": "7xdVgbNat5QP",
      "metadata": {
        "id": "7xdVgbNat5QP"
      },
      "outputs": [],
      "source": [
        "# 수치형 칼럼 인코딩\n",
        "# numeric_columns 칼럼 전부 포함하도록 수정(is_converted와의 비율 계산을 위해)\n",
        "numeric_columns = df_train.columns.tolist()\n",
        "df_all = pd.concat([df_train[numeric_columns], df_test[numeric_columns]])\n",
        "\n",
        "\n",
        "# lead_desc_length 이상치를 1.5 IQR로 대체\n",
        "# Dataleakage 방지를 위해 train 셋에 대한 Upper_bound 및 평균 사용!\n",
        "Q1 = df_train['lead_desc_length'].quantile(0.25)\n",
        "Q3 = df_train['lead_desc_length'].quantile(0.75)\n",
        "IQR = Q3 - Q1\n",
        "upper_bound = Q3 + 1.5 * IQR\n",
        "df_all['lead_desc_length'] = df_all['lead_desc_length'].apply(lambda x: upper_bound if x > upper_bound else x)\n",
        "df_all['lead_desc_length'].fillna(df_train['lead_desc_length'].mean(), inplace=True)  # 남은 결측치는 평균으로 대체\n",
        "\n",
        "\n",
        "# com_reg_ver_win_rate 결측치 평균 값으로 대체\n",
        "df_all['com_reg_ver_win_rate'].fillna(df_train['com_reg_ver_win_rate'].mean(), inplace=True)\n",
        "\n",
        "\n",
        "# ver_win_rate_x 결측치 평균 값으로 대체\n",
        "df_all['ver_win_rate_x'].fillna(df_train['ver_win_rate_x'].mean(), inplace=True)\n",
        "\n",
        "\n",
        "# ver_win_ratio_per_bu 결측치 평균 값으로 대체\n",
        "df_all['ver_win_ratio_per_bu'].fillna(df_train['ver_win_ratio_per_bu'].mean(), inplace=True)"
      ]
    },
    {
      "cell_type": "code",
      "execution_count": 118,
      "id": "CZrjoLjNt7UE",
      "metadata": {
        "id": "CZrjoLjNt7UE"
      },
      "outputs": [],
      "source": [
        "# 다시 트레인과 테스트로 분리\n",
        "for col in numeric_columns:\n",
        "    df_train[col] = df_all.iloc[: len(df_train)][col]\n",
        "    df_test[col] = df_all.iloc[len(df_train) :][col]"
      ]
    },
    {
      "cell_type": "markdown",
      "id": "29fb4bce",
      "metadata": {
        "id": "29fb4bce"
      },
      "source": [
        "## 2.11 inquiry_type\n",
        "\n",
        "\n",
        "> **inquiry_type은 고객의 문의 유형**으로, 총 72개 유형의 문자열로 구성되어 있습니다."
      ]
    },
    {
      "cell_type": "markdown",
      "id": "to5z21kssXq9",
      "metadata": {
        "id": "to5z21kssXq9"
      },
      "source": [
        "### 2.11.1 데이터 전처리\n",
        "\n",
        "\n",
        "- 데이터 유형 72종 중 대소문자, 띄어쓰기 등의 표기법 차이만 있는 경우를 하나의 데이터 유형으로 병합했습니다.\n",
        "- 또한, 데이터 갯수가 100개 이상인 상위 13개의 항목을 주요 질문 항목으로 보존하였습니다.\n",
        "- 주요 질문 항목\n",
        "  - sales inquiry\n",
        "  - product information\n",
        "  - trainings\n",
        "  - services\n",
        "  - request for partnership\n",
        "  - request a demo\n",
        "  - request for quotation or purchase\n",
        "  - technical support\n",
        "  - sales\n",
        "  - request for distributorship\n",
        "  - quotation or purchase consultation\n",
        "  - usage or technical consultation\n",
        "  - etc.\n",
        "\n",
        "- 결측치와 test 데이터셋에서 등장할 수 있는 새로운 데이터 유형의 경우, 기존 항목의 etc. 항목으로 병합하였습니다."
      ]
    },
    {
      "cell_type": "code",
      "execution_count": 119,
      "id": "d79593d6",
      "metadata": {
        "id": "d79593d6"
      },
      "outputs": [],
      "source": [
        "#데이터 EDA 확인\n",
        "#df_all = df_train\n",
        "df_all = pd.concat([df_train[['inquiry_type']], df_test[['inquiry_type']]])\n",
        "\n",
        "df_all['inquiry_type'] = df_all['inquiry_type'].str.lower()\n",
        "\n",
        "\n",
        "def change_data(col:str, data1:str, data2:str):\n",
        "    fil1 = df_all[col]==data1\n",
        "    fil2 = df_all[col]==data2\n",
        "    df_all.loc[fil2,col] = data1\n",
        "    return df_all\n",
        "\n",
        "li = [('quotation or purchase consultation', 'quotation_or_purchase_consultation'),\n",
        "      ('other','other_'),\n",
        "      ('other','others'),\n",
        "      ('usage or technical consultation','usage_or_technical_consultation'),\n",
        "      ('etc.','other')\n",
        "      ]\n",
        "\n",
        "\n",
        "real_li = ['sales inquiry',\n",
        "           'product information',\n",
        "           'trainings',\n",
        "           'services',\n",
        "           'request for partnership',\n",
        "          'technical support',\n",
        "          'request a demo',\n",
        "          'request for quotation or purchase',\n",
        "          'technical support',\n",
        "          'sales',\n",
        "        'request for distributorship',\n",
        "          ]\n",
        "\n",
        "\n",
        "for data1, data2 in li:\n",
        "    change_data('inquiry_type', data1, data2)\n",
        "    real_li.append(data1)\n",
        "\n",
        "# 결측치 포함 기타 직업들을 모두 Etc. 로 병합\n",
        "fil = df_all['inquiry_type'].isin(real_li)\n",
        "df_all.loc[~fil,'inquiry_type'] = 'etc.'\n",
        "\n",
        "df_train['inquiry_type'] = df_all.iloc[: len(df_train)]['inquiry_type']\n",
        "df_test['inquiry_type'] = df_all.iloc[len(df_train) :]['inquiry_type']"
      ]
    },
    {
      "cell_type": "code",
      "execution_count": 120,
      "id": "-iTaejJqV1QN",
      "metadata": {
        "id": "-iTaejJqV1QN"
      },
      "outputs": [],
      "source": [
        "# inquiry_type 전환률 칼럼 생성\n",
        "## df_train을 기준으로 전환율을 반영하여 DataLeakage를 방지한다!!\n",
        "inquiry_type_conversion_rates = df_train.groupby('inquiry_type')['is_converted'].mean()\n",
        "sorted_conversion_rates_series = inquiry_type_conversion_rates.sort_values(ascending=False)\n",
        "\n",
        "# df_all 데이터 프레임에 전환율 칼럼 생성\n",
        "# df_train의 전환율 데이터를 test에도 동일하게 적용한다\n",
        "df_all['inquiry_type_win_rate'] = df_all['inquiry_type'].map(sorted_conversion_rates_series)\n",
        "\n",
        "df_train['inquiry_type_win_rate'] = df_all.iloc[: len(df_train)]['inquiry_type_win_rate']\n",
        "df_test['inquiry_type_win_rate'] = df_all.iloc[len(df_train) :]['inquiry_type_win_rate']"
      ]
    },
    {
      "cell_type": "markdown",
      "id": "zBcKKqJltCS0",
      "metadata": {
        "id": "zBcKKqJltCS0"
      },
      "source": [
        "### 2.11.2 데이터 유형별 전환율 확인\n",
        "\n",
        "\n",
        "> usage or technical consultaion 항목이 평균 전환율의 절반인 것을 확인할 수 있었습니다.\n",
        "- 이를 통해 해당 질문 유형은 구매 보다는 실제 사용 및 이용 문의일 확률이 높은 것이라 추측했습니다."
      ]
    },
    {
      "cell_type": "code",
      "execution_count": 135,
      "id": "3fccde55",
      "metadata": {
        "colab": {
          "base_uri": "https://localhost:8080/"
        },
        "id": "3fccde55",
        "outputId": "705a053b-e981-409b-f7e0-d3ecf8d0b982"
      },
      "outputs": [
        {
          "name": "stdout",
          "output_type": "stream",
          "text": [
            "총 고객 : 60400\n",
            "작성된 고객 유형 : 60400\n",
            "결측치 비율 = 0.0\n",
            "\n",
            "\n",
            "\n",
            "=====고객 별 비율=====                     ===고객 별 전환비율=====\n",
            "quotation or purchase consultation : 72.75 %    고객 43941 중 7416  : 16.88\n",
            "sales inquiry                  : 15.56 %    고객 9399  중 1102  : 11.72\n",
            "etc.                           : 5.01  %    고객 3028  중 458   : 15.13\n",
            "usage or technical consultation : 1.93  %    고객 1168  중 100   : 8.56\n",
            "product information            : 1.84  %    고객 1110  중 20    : 1.8\n",
            "trainings                      : 0.63  %    고객 378   중 4     : 1.06\n",
            "services                       : 0.61  %    고객 371   중 20    : 5.39\n",
            "request for partnership        : 0.5   %    고객 303   중 60    : 19.8\n",
            "request for quotation or purchase : 0.37  %    고객 223   중 4     : 1.79\n",
            "request a demo                 : 0.3   %    고객 180   중 12    : 6.67\n",
            "technical support              : 0.21  %    고객 127   중 34    : 26.77\n",
            "sales                          : 0.17  %    고객 102   중 4     : 3.92\n",
            "request for distributorship    : 0.12  %    고객 70    중 6     : 8.57\n"
          ]
        }
      ],
      "source": [
        "# show_conversion_ratio('inquiry_type')"
      ]
    },
    {
      "cell_type": "markdown",
      "id": "deda304e",
      "metadata": {
        "id": "deda304e"
      },
      "source": [
        "## 2.12 idit_strategic_ver\n",
        "\n",
        "\n",
        "\n",
        "> **idit_strategic_ver**는 Id_strategic_ver이나 it_strategic_ver 값 중 하나라도 1의 값을 가지면 1 값으로 표현한 값으로 nan아니면 1의 값을 가지고 있습니다.\n",
        "\n",
        "\n",
        "\n",
        "1. 해당 데이터 타입은 `id_strategic_ver` 과 `it_strategic_ver` 의 합집합 데이터임을 확인했다.  \n",
        "\n",
        "2. 두 칼럼의 정확한 의미를 파악했다. `id_strategic_ver`, `it_strategic_ver` 의 경우, `business unit` 이 'id' 혹은 'it' 이면서, `business_area` 가 회사 혹은 호텔 인 경우를 나타낸다.  \n",
        "\n",
        "3. 데이터 sparse 현상을 줄이기 위해 칼럼 내 융합된 두 유형을 'ID', 'IT'로  \n",
        "분류하여 하나의 칼럼을 사용하기로 결정했다.\n",
        "\n"
      ]
    },
    {
      "cell_type": "markdown",
      "id": "Bwb34eCQtfMf",
      "metadata": {
        "id": "Bwb34eCQtfMf"
      },
      "source": [
        "### 2.12.1 데이터 탐색\n",
        "\n",
        "\n",
        "> - 해당 데이터 타입은 `id_strategic_ver` 과 `it_strategic_ver` 의 합집합 데이터임을 확인하였습니다.\n",
        "- 또한, 데이터 탐색을 통해 두 칼럼의 정확한 의미를 파악했습니다.\n",
        "  - `id_strategic_ver`, `it_strategic_ver` 의 경우, `business unit` 이 'id' 혹은 'it' 이면서, `business_area` 가 회사 혹은 호텔 인 경우를 나타냄을 추측할 수 있었습니다.\n",
        "- 데이터 sparse 현상을 줄이기 위해 칼럼 내 융합된 두 유형을 'ID', 'IT'로 분류하여 하나의 칼럼을 사용하기로 결정하였습니다.\n"
      ]
    },
    {
      "cell_type": "code",
      "execution_count": 122,
      "id": "511ee4b0",
      "metadata": {
        "colab": {
          "base_uri": "https://localhost:8080/",
          "height": 1000
        },
        "id": "511ee4b0",
        "outputId": "af1fd80a-1446-4821-d920-d782043c1c2a"
      },
      "outputs": [
        {
          "data": {
            "image/png": "[encoded data removed]",
            "text/plain": [
              "<Figure size 1200x400 with 2 Axes>"
            ]
          },
          "metadata": {},
          "output_type": "display_data"
        },
        {
          "name": "stdout",
          "output_type": "stream",
          "text": [
            "it_strategic_ver 의 데이터 값 :  1108\n",
            "original 인 경우 ====================\n",
            "business_area의 결측치 :  37993\n",
            "it_strategic_ver이 1 인 경우 ====================\n",
            "business_area의 결측치 :  0\n",
            "\n"
          ]
        },
        {
          "data": {
            "image/png": "[encoded data removed]",
            "text/plain": [
              "<Figure size 1200x400 with 2 Axes>"
            ]
          },
          "metadata": {},
          "output_type": "display_data"
        },
        {
          "name": "stdout",
          "output_type": "stream",
          "text": [
            "id_strategic_ver 의 데이터 값 :  3339\n",
            "original 인 경우 ====================\n",
            "business_area의 결측치 :  37993\n",
            "id_strategic_ver이 1 인 경우 ====================\n",
            "business_area의 결측치 :  0\n",
            "\n"
          ]
        },
        {
          "data": {
            "image/png": "[encoded data removed]",
            "text/plain": [
              "<Figure size 1200x400 with 2 Axes>"
            ]
          },
          "metadata": {},
          "output_type": "display_data"
        },
        {
          "name": "stdout",
          "output_type": "stream",
          "text": [
            "idit_strategic_ver 의 데이터 값 :  4447\n",
            "original 인 경우 ====================\n",
            "business_area의 결측치 :  37993\n",
            "idit_strategic_ver이 1 인 경우 ====================\n",
            "business_area의 결측치 :  0\n",
            "\n"
          ]
        }
      ],
      "source": [
        "\n",
        "#데이터 시각화 코드\n",
        "def compare_vertical_level(filtering:str, col_name:str):\n",
        "    '''\n",
        "    filtering = 1일 때를 나타내는 특정 칼럼\n",
        "    col_name = 비교하고 싶은 칼럼\n",
        "\n",
        "    col_name 이 있는지 없는지를 비교\n",
        "\n",
        "    retunn:none\n",
        "    '''\n",
        "    fil = df_train[filtering]==1\n",
        "\n",
        "    fig, axes = plt.subplots(1, 2, figsize=(12, 4)) #2열 1행\n",
        "\n",
        "    # original 의 경우\n",
        "    axes[0].plot(df_train[col_name].value_counts()[:20], 's-b')\n",
        "    axes[0].set_xlabel('counts')\n",
        "    axes[0].set_ylabel(col_name)\n",
        "    axes[0].set_title('original')\n",
        "\n",
        "    # id_strategic_ver 의 경우\n",
        "    axes[1].plot(df_train[fil][col_name].value_counts(), 's-b')\n",
        "    axes[1].set_xlabel('counts')\n",
        "    axes[1].set_ylabel(col_name)\n",
        "    axes[1].set_title(filtering)\n",
        "\n",
        "    for ax in axes:\n",
        "        ax.set_xticks(ax.get_xticks())\n",
        "        ax.set_xticklabels(ax.get_xticklabels(), rotation=90)\n",
        "\n",
        "    plt.show()\n",
        "\n",
        "    print(f'{filtering} 의 데이터 값 : ', len(df_train[fil]))\n",
        "    print('original 인 경우','='*20)\n",
        "    print(f'{col_name}의 결측치 : ', df_train[col_name].isnull().sum())\n",
        "\n",
        "    print(f'{filtering}이 1 인 경우','='*20)\n",
        "    print(f'{col_name}의 결측치 : ', df_train[fil][col_name].isnull().sum())\n",
        "\n",
        "    print('')\n",
        "\n",
        "compare_vertical_level(\"it_strategic_ver\", 'business_area')\n",
        "\n",
        "compare_vertical_level('id_strategic_ver', 'business_area')\n",
        "\n",
        "compare_vertical_level('idit_strategic_ver', 'business_area')\n",
        "\n"
      ]
    },
    {
      "cell_type": "markdown",
      "id": "AOBD49hDt1Bl",
      "metadata": {
        "id": "AOBD49hDt1Bl"
      },
      "source": [
        "### 2.12.2 데이터 전처리\n",
        "\n",
        "\n",
        "- 전환율을 확인한 결과, **id_strategic_ver 의 경우 1%의 전환율**을 가지고 있기 때문에 유의미하다고 판단했습니다.\n",
        "\n",
        "- 이 외에, **'ver_cus' 의 경우 15%의 전환율을, 'ver_pro' 의 경우 9%의 전환율**을 확인하였으며,  두 칼럼 모두 특정 의미를 가지고 있다고 판단하여 데이터 분석에 사용하였습니다.\n"
      ]
    },
    {
      "cell_type": "code",
      "execution_count": 123,
      "id": "f035bafd",
      "metadata": {
        "id": "f035bafd"
      },
      "outputs": [],
      "source": [
        "df_all = pd.concat([df_train[['idit_strategic_ver','business_unit','business_area']], df_test[['idit_strategic_ver','business_unit','business_area']]])\n",
        "\n",
        "\n",
        "filter1 = df_all['business_area'] == 'hotel & accommodation'\n",
        "filter2 = df_all['business_area'] == 'corporate / office'\n",
        "\n",
        "filter3 = df_all['business_unit'] == 'ID'  #\n",
        "filter4 = df_all['business_unit'] == 'IT'  #\n",
        "\n",
        "# 결측치 => nan\n",
        "df_all.loc[df_all['idit_strategic_ver'] != 1,'idit_strategic_ver'] = '0'\n",
        "\n",
        "# id unit = 'id'\n",
        "df_all.loc[filter3 & (filter1 | filter2) ,'idit_strategic_ver'] = 'id'\n",
        "\n",
        "# id unit = 'it'\n",
        "df_all.loc[filter4 & (filter1 | filter2) ,'idit_strategic_ver'] = 'it'\n",
        "\n",
        "#df_all[df_all['idit_strategic_ver'] != '0'][['idit_strategic_ver']]\n",
        "\n",
        "df_train['idit_strategic_ver'] = df_all.iloc[: len(df_train)]['idit_strategic_ver']\n",
        "df_test['idit_strategic_ver'] = df_all.iloc[len(df_train) :]['idit_strategic_ver']"
      ]
    },
    {
      "cell_type": "markdown",
      "id": "e699ef4f",
      "metadata": {
        "id": "e699ef4f"
      },
      "source": [
        "# 3. 학습에 사용할 칼럼 정의 <a name=\"3.-학습에-사용할-칼럼-정의\"></a>"
      ]
    },
    {
      "cell_type": "code",
      "execution_count": 124,
      "id": "9657dd4f",
      "metadata": {
        "id": "9657dd4f"
      },
      "outputs": [],
      "source": [
        "# 새롭게 바뀐 데이터 자료형\n",
        "\n",
        "#범주형\n",
        "label_columns = [\n",
        "    \"customer_country\", # customer_country_win_rate (전환율 칼럼) 파생\n",
        "#    \"business_subarea\", 제거 all_business_area_details (0, 0.5, 1 범주형)\n",
        "#    \"business_area\",제거 (얘가 vertical level 1)\n",
        "    \"business_unit\",\n",
        "    \"customer_type\", # customer_type_win_rate (전환율 칼럼) 파생\n",
        "    \"enterprise\",\n",
        "    \"customer_job\", # customer_job_win_rate (전환율 칼럼) 파생\n",
        "    \"inquiry_type\", # inquiry_type_win_rate  (전환율 칼럼) 파생\n",
        "    \"product_category\", # product_category_win_rate  (전환율 칼럼) 파생\n",
        "    \"product_subcategory\", # 제거 all_product_details 로 대체 (0,1 범주형)\n",
        "    \"product_modelname\", # 제거 all_product_details 로 대체 (0,1 범주형)\n",
        "    \"customer_position\", # customer_position_win_rate (전환율 칼럼) 파생\n",
        "    \"response_corporate\", # response_corporate_win_rate (전환율 칼럼) 파생 / country(범주형) / continent(범주형)\n",
        "    \"expected_timeline\", # timeline_win_rate (전환율 칼럼) 파생\n",
        "    'all_product_details', #\n",
        "    'country',\n",
        "    'continent',\n",
        "#   'lead_owner_cat'\n",
        "]\n",
        "\n",
        "# 범주형 ( 숫자인데 범주형)\n",
        "label_columns2 = [\n",
        "    \"bant_submit\",\n",
        "    \"customer_idx\",\n",
        "    #\"id_strategic_ver\", # 0,1 제거\n",
        "    #\"it_strategic_ver\", # 0,1 제거\n",
        "    \"idit_strategic_ver\", # 0,1\n",
        "    \"ver_cus\",# 0, 1\n",
        "    \"ver_pro\", # 0, 1\n",
        "    \"lead_owner\",\n",
        "    \"all_product_details\", # true, false\n",
        "]\n",
        "\n",
        "#수치형\n",
        "numeric_columns = [\n",
        "    \"customer_country_win_rate\",\n",
        "    \"timeline_win_rate\",\n",
        "    \"product_category_win_rate\",\n",
        "    \"customer_type_win_rate\",\n",
        "    \"customer_job_win_rate\",\n",
        "    \"customer_position_win_rate\",\n",
        "    \"response_corporate_win_rate\",\n",
        "   #\"historical_existing_cnt\",\n",
        "    \"lead_desc_length\", # 박스 플롯 upperbound로 이상치 교체 후 train셋의 평균으로 결측 채움\n",
        "    \"com_reg_ver_win_rate\", # 결측 트레인 셋 평균으로 대체\n",
        "    \"ver_win_rate_x\", # 결측 트레인 셋 평균으로 대체\n",
        "    \"ver_win_ratio_per_bu\", # 결측 트레인 셋 평균으로 대체\n",
        "    \"all_business_area_details\",\n",
        "    \"inquiry_type_win_rate\",\n",
        "#    \"customer_idx_win_rate\",\n",
        "#    \"lead_owner_win_rate\"\n",
        "]"
      ]
    },
    {
      "cell_type": "markdown",
      "id": "e8a29031",
      "metadata": {
        "id": "e8a29031"
      },
      "source": [
        "# 4. 모델 정의 <a name=\"4.-모델-정의\"></a>\n",
        "\n",
        "\n",
        "- 전처리 이후의 데이터는 수치형 데이터와 범주형 데이터가 섞여 있습니다.\n",
        "- 따라서 유형이 다른 두 타입의 데이터를 함께 학습해주기 위해 \"DeepFM\" 모델을 사용했습니다.\n",
        "- \"DeepFM\"은 풍부한 특성 표현과 선형 및 비선형 상호 작용을 고려하기 떄문에 다양한 추천 시스템에서 성능이 우수한 것으로 알려져 있습니다.\n",
        "\n",
        "\n",
        "  - 모델 논문 링크 : https://arxiv.org/pdf/1703.04247.pdf  \n",
        "  - 모델 배포 코드 : https://github.com/shenweichen/DeepCTR/blob/master/deepctr/models/deepfm.py  \n",
        "\n",
        "  - \"DeepFM\"은 Factorization Machines (FM)와 Neural Networks(DNN)을 결합한 모델로, 사용자와 정보 간의 상호 작용을 모델링할 때 **선형 항목**과 **비선형 항목**을 모두 사용하여 풍부한 특성 표현을 학습합니다. 따라서 해당 train 데이터에서 수치형 데이터와 범주형 데이터를 분리한 다음 훈련을 진행시켰습니다. 하이퍼 파라미터는 모델을 반복적 수행해가며 경험적으로 탐색했습니다."
      ]
    },
    {
      "cell_type": "code",
      "execution_count": 125,
      "id": "6413f968",
      "metadata": {
        "id": "6413f968"
      },
      "outputs": [],
      "source": [
        "def feature_selection(data):\n",
        "    '''\n",
        "    수치형 데이터를 dense_feature 로,\n",
        "    범주형 데이터를 sparse_feature 로 구분한다.\n",
        "\n",
        "    각 feature 별 종류를 출력한다.\n",
        "    '''\n",
        "    sparse_features = label_columns + label_columns2\n",
        "    dense_features = numeric_columns\n",
        "\n",
        "    print(\"== sparse feature ==\")\n",
        "    for i, da in enumerate(sparse_features):\n",
        "        print(i, da)\n",
        "    print()\n",
        "    print(\"== dense feature ==\")\n",
        "    for i,da in enumerate(dense_features):\n",
        "        print(i, da)\n",
        "    print()\n",
        "\n",
        "    return data, sparse_features, dense_features"
      ]
    },
    {
      "cell_type": "code",
      "execution_count": 126,
      "id": "5267f8e4",
      "metadata": {
        "id": "5267f8e4"
      },
      "outputs": [],
      "source": [
        "def feature_encoding(data, train_data, sparse_features, dense_features):\n",
        "    '''\n",
        "    sklearn 의 LabelEncoder 로 범주형 데이터의 유형을 숫자로 인코딩한다.\n",
        "    sklearn 의 MinMaxScaler 로 수치형 데이터의 최소최대값에 따라 정규화한다.\n",
        "\n",
        "    예측할 test데이터도 함께 진행하지만,\n",
        "    train 데이터를 기준으로 인코딩 및 정규화하여 data leakage 를 방지하였다.\n",
        "    '''\n",
        "\n",
        "\n",
        "    for feat in sparse_features:\n",
        "        lbe = LabelEncoder()\n",
        "        #범주형의 경우 사전 전처리에서 이미 test 고유의 데이터 사라짐 (data leakage 방지)\n",
        "        data[feat] = lbe.fit_transform(data[feat])\n",
        "\n",
        "    print(\"1. numeric value Minmax scaling \")\n",
        "    mms = MinMaxScaler(feature_range=(0, 1))\n",
        "    # train 값으로만 minmax scaling 하여 data leakage 방지\n",
        "    mms.fit(train_data[dense_features])\n",
        "\n",
        "    #결측치 처리를 따로 하지 않은 칼럼의 경우 오류 방지를 위해 0으로 보간\n",
        "    data[dense_features] = mms.transform(data[dense_features].fillna(0))\n",
        "    print(\"2. categorical value label encoding\")\n",
        "\n",
        "\n",
        "\n",
        "    return data\n",
        "\n",
        "\n",
        "def feature_format_deepfm(data, sparse_features, dense_features, embedding_dim):\n",
        "    '''\n",
        "    deepFM 모델을 사용하기 위해서는 SparseFeat 과 DenseFeat 이라는 고유의 class 타입이 필요하다.\n",
        "    해당 함수는 우리의 수치형 범주형 데이터를 기반으로 두 class 타입을 형성한다.\n",
        "\n",
        "    '''\n",
        "\n",
        "\n",
        "    # SparseFeat 코드 사용시 vocabulary 를 학습한다.\n",
        "\n",
        "    print(f\"\\n\\n3. feature embedding - embedding size {embedding_dim}\")\n",
        "\n",
        "    #이미 인코딩 되어있어서 vocabulary_size 는 데이터 유형의 개수를 파악한다고 볼 수 있다.\n",
        "\n",
        "    # 각 범주형 칼럼별 데이터 유형의 개수를 파악하고 SparseFeat 클래스로 정의하였다.\n",
        "    spar_feat_list = [SparseFeat(feat, vocabulary_size=data[feat].max() + 1, embedding_dim=embedding_dim) for i, feat in enumerate(sparse_features)]\n",
        "    # 각 수치형 칼럼을 DenseFeat 클래스로 정의\n",
        "    dense_feat_list = [DenseFeat(feat, 1, ) for feat in dense_features]\n",
        "    fixlen_feature_columns = spar_feat_list + dense_feat_list\n",
        "\n",
        "    dnn_feature_columns = fixlen_feature_columns\n",
        "    linear_feature_columns = fixlen_feature_columns\n",
        "    feature_names = get_feature_names(linear_feature_columns + dnn_feature_columns)\n",
        "\n",
        "    return dnn_feature_columns, linear_feature_columns, feature_names\n",
        "\n",
        "def data_split(data, train_len, test_rato, feature_names, random_seed):\n",
        "    '''\n",
        "    학습할 데이터와 평가할 데이터를 분리한다.\n",
        "    이 때, train_len 인자를 통해 데이터 증강으로 유동적으로 변하는 train 데이터의 갯수를 고려한다.\n",
        "    '''\n",
        "\n",
        "\n",
        "    print(f\"\\n\\n4. data split (test ratio - {test_rato})\")\n",
        "\n",
        "    train = data.iloc[: train_len]\n",
        "    test = data.iloc[train_len :]\n",
        "\n",
        "    #train, test = train_test_split(data, test_size=test_rato, random_state = random_seed)\n",
        "    train_model_input = {name: train[name] for name in feature_names}\n",
        "    test_model_input = {name: test[name] for name in feature_names}\n",
        "\n",
        "    return train, test, train_model_input, test_model_input\n",
        "\n",
        "\n",
        "def modeling(linear_feature_columns, dnn_feature_columns,\n",
        "             batch_size, num_epoch, val_ratio, test_rato, l2_decay_val, random_seed):\n",
        "\n",
        "\n",
        "    print(f\"\\n\\n5. Modeling\")\n",
        "    #DeepFM 모델을 정의한다.\n",
        "    #모델에는 dropout 이 사용되었다.\n",
        "    model = DeepFM(linear_feature_columns=linear_feature_columns,\n",
        "               dnn_feature_columns=dnn_feature_columns,\n",
        "               l2_reg_linear=l2_decay_val, l2_reg_embedding=l2_decay_val, l2_reg_dnn=l2_decay_val,\n",
        "               dnn_dropout=0.5,\n",
        "               dnn_use_bn = True,\n",
        "               dnn_hidden_units=(32, 16),\n",
        "               task='binary',\n",
        "               seed=random_seed, device=device)\n",
        "\n",
        "\n",
        "    #이진 분류 모델이기 때문에 binary_crossentropy를 사용했다.\n",
        "    model.compile(\"adam\", \"binary_crossentropy\",\n",
        "                metrics=[\"binary_crossentropy\", \"auc\"], )\n",
        "\n",
        "\n",
        "    return model\n",
        "\n",
        "def eval_test(model, test_model_input, batch_size ):\n",
        "\n",
        "    print(f\"\\n\\n6. Evaluation testset\")\n",
        "\n",
        "    pred_ans = model.predict(test_model_input, batch_size)\n",
        "    print(\"\")\n",
        "    print(\"test LogLoss\", round(log_loss(test[target].values, pred_ans), 4))\n",
        "    print(\"test AUC\", round(roc_auc_score(test[target].values, pred_ans), 4))"
      ]
    },
    {
      "cell_type": "markdown",
      "id": "6a4bacdf",
      "metadata": {
        "id": "6a4bacdf"
      },
      "source": [
        "# 5. 모델 학습 및 평가 <a name=\"5.-모델-학습-및-평가\"></a>\n",
        "\n",
        "- 모델 학습 시, data imbalance를 고려하여 8%인 전환 데이터 항목을 2배로 증강하였습니다. 증강된 데이터는 총 4620 개 입니다."
      ]
    },
    {
      "cell_type": "code",
      "execution_count": 127,
      "id": "eae9b0c0",
      "metadata": {
        "colab": {
          "base_uri": "https://localhost:8080/",
          "height": 1000
        },
        "id": "eae9b0c0",
        "outputId": "70471477-c40b-4bb6-f3bd-56ee0808b01b",
        "scrolled": false
      },
      "outputs": [
        {
          "name": "stdout",
          "output_type": "stream",
          "text": [
            "증강된 데이터 : 4620 개\n",
            "== sparse feature ==\n",
            "0 customer_country\n",
            "1 business_unit\n",
            "2 customer_type\n",
            "3 enterprise\n",
            "4 customer_job\n",
            "5 inquiry_type\n",
            "6 product_category\n",
            "7 product_subcategory\n",
            "8 product_modelname\n",
            "9 customer_position\n",
            "10 response_corporate\n",
            "11 expected_timeline\n",
            "12 all_product_details\n",
            "13 country\n",
            "14 continent\n",
            "15 bant_submit\n",
            "16 customer_idx\n",
            "17 idit_strategic_ver\n",
            "18 ver_cus\n",
            "19 ver_pro\n",
            "20 lead_owner\n",
            "21 all_product_details\n",
            "\n",
            "== dense feature ==\n",
            "0 customer_country_win_rate\n",
            "1 timeline_win_rate\n",
            "2 product_category_win_rate\n",
            "3 customer_type_win_rate\n",
            "4 customer_job_win_rate\n",
            "5 customer_position_win_rate\n",
            "6 response_corporate_win_rate\n",
            "7 lead_desc_length\n",
            "8 com_reg_ver_win_rate\n",
            "9 ver_win_rate_x\n",
            "10 ver_win_ratio_per_bu\n",
            "11 all_business_area_details\n",
            "12 inquiry_type_win_rate\n",
            "\n",
            "1. numeric value Minmax scaling \n",
            "2. categorical value label encoding\n",
            "\n",
            "\n",
            "3. feature embedding - embedding size 1\n",
            "\n",
            "\n",
            "4. data split (test ratio - 0.1)\n",
            "\n",
            "\n",
            "5. Modeling\n",
            "cpu\n",
            "Train on 48320 samples, validate on 12080 samples, 49 steps per epoch\n",
            "Epoch 1/5\n",
            "2s - loss:  0.4135 - binary_crossentropy:  0.4111 - auc:  0.8532 - val_binary_crossentropy:  0.3172 - val_auc:  0.8857\n",
            "Epoch 2/5\n",
            "2s - loss:  0.3186 - binary_crossentropy:  0.3161 - auc:  0.9677 - val_binary_crossentropy:  0.1683 - val_auc:  0.9525\n",
            "Epoch 3/5\n",
            "2s - loss:  0.0911 - binary_crossentropy:  0.0895 - auc:  0.9932 - val_binary_crossentropy:  0.0878 - val_auc:  0.9830\n",
            "Epoch 4/5\n",
            "1s - loss:  0.0328 - binary_crossentropy:  0.0311 - auc:  0.9993 - val_binary_crossentropy:  0.1049 - val_auc:  0.9931\n",
            "Epoch 5/5\n",
            "1s - loss:  0.0156 - binary_crossentropy:  0.0140 - auc:  0.9999 - val_binary_crossentropy:  0.1680 - val_auc:  0.9956\n"
          ]
        },
        {
          "data": {
            "image/png": "[encoded data removed]",
            "text/plain": [
              "<Figure size 640x480 with 2 Axes>"
            ]
          },
          "metadata": {},
          "output_type": "display_data"
        }
      ],
      "source": [
        "\n",
        "if __name__ == \"__main__\":\n",
        "    batch_size = 1000 # 2048\n",
        "    num_epoch = 5 #20\n",
        "    val_ratio = 0.2\n",
        "    test_rato = 0.1\n",
        "    random_seed = 2022\n",
        "    l2_decay_val = 1e-01\n",
        "    embedding_dim = 1\n",
        "\n",
        "    device = 'cpu'\n",
        "    use_cuda = True\n",
        "    if use_cuda and torch.cuda.is_available():\n",
        "        print('cuda ready...')\n",
        "        device = 'cuda:0'\n",
        "\n",
        "\n",
        "    #train 중 converted 된 데이터셋 증강\n",
        "    agument_data = df_train[df_train['is_converted']==1]\n",
        "    times = 1\n",
        "\n",
        "    # 증강된 데이터가 누적\n",
        "    for i in range(times):\n",
        "        df_train = pd.concat([agument_data, df_train])\n",
        "\n",
        "    train_len = len(df_train)\n",
        "\n",
        "    print(f\"증강된 데이터 : {len(agument_data)* times} 개\")\n",
        "\n",
        "    #여기서 잠시 합침\n",
        "    data = pd.concat([df_train, df_test])\n",
        "\n",
        "\n",
        "    target = ['is_converted']\n",
        "    data, sparse_features, dense_features = feature_selection(data)\n",
        "    data = feature_encoding(data, df_train, sparse_features, dense_features) # data -> df_train\n",
        "    dnn_feature_columns, linear_feature_columns, feature_names = feature_format_deepfm(data, sparse_features, dense_features, embedding_dim) # data -> df_train\n",
        "    train, test, train_model_input, test_model_input = data_split(data, train_len, test_rato,\n",
        "                                                                  feature_names, random_seed)\n",
        "    model = modeling(linear_feature_columns, dnn_feature_columns, batch_size, num_epoch, val_ratio, test_rato, l2_decay_val, random_seed)\n",
        "\n",
        "    hist  = model.fit(train_model_input,\n",
        "          train[target].values.astype('float'),\n",
        "          batch_size=batch_size,\n",
        "          epochs=num_epoch,\n",
        "          verbose=2,\n",
        "          validation_split=val_ratio)\n",
        "\n",
        "\n",
        "    fig, loss_ax = plt.subplots()\n",
        "    acc_ax = loss_ax.twinx()\n",
        "\n",
        "    loss_ax.plot(hist.history['binary_crossentropy'], 'y', label='train loss')\n",
        "    loss_ax.plot(hist.history['val_binary_crossentropy'], 'r', label='val loss')\n",
        "    loss_ax.set_xlabel('epoch')\n",
        "    loss_ax.set_ylabel('binary_crossentropy')\n",
        "    loss_ax.legend(loc='upper right')\n",
        "\n",
        "    acc_ax.plot(hist.history['auc'], 'b', label='train auc')\n",
        "    acc_ax.plot(hist.history['val_auc'], 'g', label='val auc')\n",
        "    acc_ax.set_ylabel('AUC')\n",
        "    acc_ax.legend(loc='upper left')\n",
        "\n",
        "    plt.show()\n"
      ]
    },
    {
      "cell_type": "markdown",
      "id": "eada817c",
      "metadata": {
        "id": "eada817c"
      },
      "source": [
        "- 위는 다섯 번의 모델 학습을 거친 결과입니다. AUC 를 평가지표로 설정하였으며, 최종 학습 이후, 0.9999의 auc 점수가 나오는 것을 확인했습니다."
      ]
    },
    {
      "cell_type": "code",
      "execution_count": 128,
      "id": "ca9c2882",
      "metadata": {
        "id": "ca9c2882"
      },
      "outputs": [],
      "source": [
        "def threshold_function(value):\n",
        "    if value >= 0.1:\n",
        "        return 1\n",
        "    else:\n",
        "        return 0\n",
        "\n",
        "pred_ans = model.predict(test_model_input) #batch_size default : 256\n",
        "pred = list(map(threshold_function, pred_ans))"
      ]
    },
    {
      "cell_type": "markdown",
      "id": "27381371",
      "metadata": {
        "id": "27381371"
      },
      "source": [
        "- 모델의 결과값으로는 0에서 1 사이의 확률값이 반환되었고,\n",
        "데이터 불균형의 문제를 고려하여 전환 확률이 10% 이상인 모든 데이터를\n",
        "전환으로 예측하였습니다."
      ]
    },
    {
      "cell_type": "code",
      "execution_count": 129,
      "id": "8d38a0c4",
      "metadata": {
        "id": "8d38a0c4"
      },
      "outputs": [],
      "source": [
        "# 제출 데이터 읽어오기\n",
        "df_sub = pd.read_csv(\"submission.csv\")\n",
        "df_sub[\"is_converted\"] = pred\n",
        "\n",
        "# 제출 파일 저장\n",
        "df_sub.to_csv(\"submission.csv\", index=False)"
      ]
    },
    {
      "cell_type": "code",
      "execution_count": 130,
      "id": "02070009",
      "metadata": {
        "colab": {
          "base_uri": "https://localhost:8080/",
          "height": 472
        },
        "id": "02070009",
        "outputId": "7358bdff-40ac-4ad9-ee6f-88ab943b9da6"
      },
      "outputs": [
        {
          "data": {
            "image/png": "[encoded data removed]",
            "text/plain": [
              "<Figure size 640x480 with 1 Axes>"
            ]
          },
          "metadata": {},
          "output_type": "display_data"
        }
      ],
      "source": [
        "# 그래프 그리기\n",
        "plt.scatter(range(len(pred_ans)), sorted(pred_ans), marker='o', color='blue',s=5)\n",
        "plt.xlabel('Index')\n",
        "plt.ylabel('Values')\n",
        "plt.title('Graph of the Given Data')\n",
        "plt.show()"
      ]
    }
  ],
  "metadata": {
    "colab": {
      "provenance": []
    },
    "kernelspec": {
      "display_name": "Python 3 (ipykernel)",
      "language": "python",
      "name": "python3"
    },
    "language_info": {
      "codemirror_mode": {
        "name": "ipython",
        "version": 3
      },
      "file_extension": ".py",
      "mimetype": "text/x-python",
      "name": "python",
      "nbconvert_exporter": "python",
      "pygments_lexer": "ipython3",
      "version": "3.9.18"
    }
  },
  "nbformat": 4,
  "nbformat_minor": 5
}
